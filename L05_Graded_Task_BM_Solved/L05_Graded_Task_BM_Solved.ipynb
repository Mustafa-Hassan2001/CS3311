{
  "cells": [
    {
      "cell_type": "markdown",
      "metadata": {
        "id": "qBcjA5cvNrMa"
      },
      "source": [
        "Read Basic-1-clean.csv thorugh pandas"
      ]
    },
    {
      "cell_type": "code",
      "execution_count": null,
      "metadata": {
        "id": "37syU_rJCAjz"
      },
      "outputs": [],
      "source": [
        "import pandas as pd\n",
        "\n",
        "basic = pd.read_csv('Basic.csv')"
      ]
    },
    {
      "cell_type": "markdown",
      "metadata": {
        "id": "PJ2nyDjxNyTB"
      },
      "source": [
        "Print Head Section and see if there is any NAN values or not"
      ]
    },
    {
      "cell_type": "code",
      "execution_count": null,
      "metadata": {
        "id": "_IaZt72xOCmy",
        "outputId": "006a56ed-5964-44e8-b655-28e7cd04e4f6"
      },
      "outputs": [
        {
          "data": {
            "text/html": [
              "<div>\n",
              "<style scoped>\n",
              "    .dataframe tbody tr th:only-of-type {\n",
              "        vertical-align: middle;\n",
              "    }\n",
              "\n",
              "    .dataframe tbody tr th {\n",
              "        vertical-align: top;\n",
              "    }\n",
              "\n",
              "    .dataframe thead th {\n",
              "        text-align: right;\n",
              "    }\n",
              "</style>\n",
              "<table border=\"1\" class=\"dataframe\">\n",
              "  <thead>\n",
              "    <tr style=\"text-align: right;\">\n",
              "      <th></th>\n",
              "      <th>c1</th>\n",
              "      <th>c2</th>\n",
              "      <th>c3</th>\n",
              "      <th>c5</th>\n",
              "      <th>c6</th>\n",
              "      <th>c9</th>\n",
              "      <th>c11</th>\n",
              "      <th>c12</th>\n",
              "      <th>c14</th>\n",
              "      <th>c16</th>\n",
              "      <th>c17</th>\n",
              "    </tr>\n",
              "  </thead>\n",
              "  <tbody>\n",
              "    <tr>\n",
              "      <th>0</th>\n",
              "      <td>1.000000</td>\n",
              "      <td>5.000000</td>\n",
              "      <td>3.913333</td>\n",
              "      <td>none</td>\n",
              "      <td>40.000000</td>\n",
              "      <td>2.000000</td>\n",
              "      <td>11.000000</td>\n",
              "      <td>average</td>\n",
              "      <td>half</td>\n",
              "      <td>full</td>\n",
              "      <td>good</td>\n",
              "    </tr>\n",
              "    <tr>\n",
              "      <th>1</th>\n",
              "      <td>2.000000</td>\n",
              "      <td>4.500000</td>\n",
              "      <td>5.800000</td>\n",
              "      <td>none</td>\n",
              "      <td>35.000000</td>\n",
              "      <td>4.583333</td>\n",
              "      <td>11.000000</td>\n",
              "      <td>below average</td>\n",
              "      <td>full</td>\n",
              "      <td>full</td>\n",
              "      <td>good</td>\n",
              "    </tr>\n",
              "    <tr>\n",
              "      <th>2</th>\n",
              "      <td>2.102564</td>\n",
              "      <td>3.620513</td>\n",
              "      <td>3.913333</td>\n",
              "      <td>none</td>\n",
              "      <td>38.000000</td>\n",
              "      <td>5.000000</td>\n",
              "      <td>11.000000</td>\n",
              "      <td>generous</td>\n",
              "      <td>half</td>\n",
              "      <td>half</td>\n",
              "      <td>good</td>\n",
              "    </tr>\n",
              "    <tr>\n",
              "      <th>3</th>\n",
              "      <td>3.000000</td>\n",
              "      <td>3.700000</td>\n",
              "      <td>4.000000</td>\n",
              "      <td>tc</td>\n",
              "      <td>37.810811</td>\n",
              "      <td>4.583333</td>\n",
              "      <td>11.105263</td>\n",
              "      <td>below average</td>\n",
              "      <td>half</td>\n",
              "      <td>full</td>\n",
              "      <td>good</td>\n",
              "    </tr>\n",
              "    <tr>\n",
              "      <th>4</th>\n",
              "      <td>3.000000</td>\n",
              "      <td>4.500000</td>\n",
              "      <td>4.500000</td>\n",
              "      <td>none</td>\n",
              "      <td>40.000000</td>\n",
              "      <td>4.583333</td>\n",
              "      <td>12.000000</td>\n",
              "      <td>average</td>\n",
              "      <td>half</td>\n",
              "      <td>half</td>\n",
              "      <td>good</td>\n",
              "    </tr>\n",
              "  </tbody>\n",
              "</table>\n",
              "</div>"
            ],
            "text/plain": [
              "         c1        c2        c3    c5         c6        c9        c11  \\\n",
              "0  1.000000  5.000000  3.913333  none  40.000000  2.000000  11.000000   \n",
              "1  2.000000  4.500000  5.800000  none  35.000000  4.583333  11.000000   \n",
              "2  2.102564  3.620513  3.913333  none  38.000000  5.000000  11.000000   \n",
              "3  3.000000  3.700000  4.000000    tc  37.810811  4.583333  11.105263   \n",
              "4  3.000000  4.500000  4.500000  none  40.000000  4.583333  12.000000   \n",
              "\n",
              "             c12   c14   c16   c17  \n",
              "0        average  half  full  good  \n",
              "1  below average  full  full  good  \n",
              "2       generous  half  half  good  \n",
              "3  below average  half  full  good  \n",
              "4        average  half  half  good  "
            ]
          },
          "execution_count": 2,
          "metadata": {},
          "output_type": "execute_result"
        }
      ],
      "source": [
        "basic.head()"
      ]
    },
    {
      "cell_type": "markdown",
      "metadata": {
        "id": "UQ9Kvp8lOC2r"
      },
      "source": [
        "Choose Independent variables to [c1, c2, c3, c11] and\n",
        "dependent Variable to c12"
      ]
    },
    {
      "cell_type": "code",
      "execution_count": null,
      "metadata": {
        "id": "EVwyjqzpOWCd",
        "outputId": "7b959498-6161-4392-8274-f809858783c1"
      },
      "outputs": [
        {
          "name": "stderr",
          "output_type": "stream",
          "text": [
            "C:\\ProgramData\\Anaconda3\\lib\\site-packages\\sklearn\\preprocessing\\label.py:235: DataConversionWarning: A column-vector y was passed when a 1d array was expected. Please change the shape of y to (n_samples, ), for example using ravel().\n",
            "  y = column_or_1d(y, warn=True)\n"
          ]
        }
      ],
      "source": [
        "\n",
        "basic = basic.dropna()\n",
        "\n",
        "x = basic[[\"c1\", \"c2\", \"c3\", \"c11\"]]\n",
        "y = basic[\"c12\"]\n",
        "\n",
        "import numpy as np\n",
        "from sklearn.preprocessing import LabelEncoder\n",
        "\n",
        "y = LabelEncoder().fit_transform(basic['c12'].values.reshape(-1,1))\n",
        "\n",
        "# x = x.values.reshape(-1,2)\n",
        "# y= y.values.reshape(-1,1)"
      ]
    },
    {
      "cell_type": "markdown",
      "metadata": {
        "id": "tSVCG4Q5OWdq"
      },
      "source": [
        "Split Your datatset into 3:4 partition"
      ]
    },
    {
      "cell_type": "code",
      "execution_count": null,
      "metadata": {
        "id": "NKWikW8YOfDc",
        "scrolled": true
      },
      "outputs": [],
      "source": [
        "from sklearn.model_selection import train_test_split\n",
        "from sklearn.linear_model import LinearRegression #Linear Model\n",
        "\n",
        "# splitting the data\n",
        "x_train, x_test, y_train, y_test = train_test_split(x, y, test_size = 0.43, random_state = 42)\n",
        "\n",
        "\n",
        "regression_model = LinearRegression().fit(x_train, y_train)\n",
        "y_predicted = regression_model.predict(x_test)\n"
      ]
    },
    {
      "cell_type": "markdown",
      "metadata": {
        "id": "u-vRyrIVOfQc"
      },
      "source": [
        "Train your Regression Model on Training Dataset"
      ]
    },
    {
      "cell_type": "code",
      "execution_count": null,
      "metadata": {
        "id": "yvT3rC4zOi7N",
        "outputId": "1613aed4-c6e6-410c-d49d-8d494b699b7f"
      },
      "outputs": [
        {
          "data": {
            "text/plain": [
              "0.1867019606712066"
            ]
          },
          "execution_count": 39,
          "metadata": {},
          "output_type": "execute_result"
        }
      ],
      "source": [
        "regression_model.score(x_train, y_train)"
      ]
    },
    {
      "cell_type": "markdown",
      "metadata": {
        "id": "1hEpYk_1OmxY"
      },
      "source": [
        "Test your Model using Testing Data Set"
      ]
    },
    {
      "cell_type": "code",
      "execution_count": null,
      "metadata": {
        "id": "E2B9FCdiOoyr",
        "outputId": "365e90de-d861-4f3a-c297-ab901e0d4a1b"
      },
      "outputs": [
        {
          "data": {
            "text/plain": [
              "-0.4289509966002232"
            ]
          },
          "execution_count": 40,
          "metadata": {},
          "output_type": "execute_result"
        }
      ],
      "source": [
        "regression_model.score(x_test, y_test)"
      ]
    },
    {
      "cell_type": "markdown",
      "metadata": {
        "id": "u2559ojzOpI0"
      },
      "source": [
        "Implement Evaluation Metrices"
      ]
    },
    {
      "cell_type": "code",
      "execution_count": null,
      "metadata": {
        "id": "uLx3Ctb-OsOw",
        "outputId": "71356041-30e6-48f9-e59f-eed53c71d94c"
      },
      "outputs": [
        {
          "name": "stdout",
          "output_type": "stream",
          "text": [
            "Slope: [-0.09710584 -0.07475276  0.36183187  0.03154624]\n",
            "Intercept: -0.3718519554675398\n",
            "Mean squared error:  0.6747824150612165\n",
            "Root mean squared error:  0.8214514076080316\n",
            "R2 score:  -0.4289509966002232\n"
          ]
        }
      ],
      "source": [
        "from sklearn.metrics import mean_squared_error, r2_score\n",
        "\n",
        "# model evaluation\n",
        "mse = mean_squared_error(y_test, y_predicted)\n",
        "r2 = r2_score(y_test, y_predicted)\n",
        "\n",
        "# printing values\n",
        "print('Slope:' ,regression_model.coef_)\n",
        "print('Intercept:', regression_model.intercept_)\n",
        "print('Mean squared error: ', mse)\n",
        "print('Root mean squared error: ', mse**(1/2.0))\n",
        "print('R2 score: ', r2)"
      ]
    },
    {
      "cell_type": "markdown",
      "metadata": {
        "id": "f6LFn-CfOskP"
      },
      "source": [
        "Do the above same task.. But this time you need change the dependent variable to c17. and You need to perform same task for the logistic regression."
      ]
    },
    {
      "cell_type": "code",
      "execution_count": null,
      "metadata": {
        "id": "3xkurAaVO602",
        "outputId": "5178a3c4-2dfa-4b77-b4f2-5bda46caea6d"
      },
      "outputs": [
        {
          "name": "stderr",
          "output_type": "stream",
          "text": [
            "C:\\ProgramData\\Anaconda3\\lib\\site-packages\\sklearn\\preprocessing\\label.py:235: DataConversionWarning: A column-vector y was passed when a 1d array was expected. Please change the shape of y to (n_samples, ), for example using ravel().\n",
            "  y = column_or_1d(y, warn=True)\n"
          ]
        }
      ],
      "source": [
        "\n",
        "basic = basic.dropna()\n",
        "\n",
        "x = basic[[\"c1\", \"c2\", \"c3\", \"c11\"]]\n",
        "y = basic[\"c17\"]\n",
        "\n",
        "import numpy as np\n",
        "from sklearn.preprocessing import LabelEncoder\n",
        "\n",
        "y = LabelEncoder().fit_transform(basic['c17'].values.reshape(-1,1))\n",
        "\n",
        "# x = x.values.reshape(-1,2)\n",
        "# y= y.values.reshape(-1,1)"
      ]
    },
    {
      "cell_type": "code",
      "execution_count": null,
      "metadata": {
        "id": "g-xIL2J2K5v7"
      },
      "outputs": [],
      "source": [
        "from sklearn.model_selection import train_test_split\n",
        "from sklearn.linear_model import LinearRegression #Linear Model\n",
        "\n",
        "# splitting the data\n",
        "x_train, x_test, y_train, y_test = train_test_split(x, y, test_size = 0.43, random_state = 42)\n",
        "\n",
        "\n",
        "regression_model = LinearRegression().fit(x_train, y_train)\n",
        "y_predicted = regression_model.predict(x_test)\n"
      ]
    },
    {
      "cell_type": "code",
      "execution_count": null,
      "metadata": {
        "id": "ufnDfSC_K5v9",
        "outputId": "713b0569-c4ae-40bc-bd58-0171c60f4344"
      },
      "outputs": [
        {
          "data": {
            "text/plain": [
              "0.47326746030587574"
            ]
          },
          "execution_count": 48,
          "metadata": {},
          "output_type": "execute_result"
        }
      ],
      "source": [
        "regression_model.score(x_train, y_train)"
      ]
    },
    {
      "cell_type": "code",
      "execution_count": null,
      "metadata": {
        "id": "JfvRUdwGK5v-",
        "outputId": "d32795d0-1a58-4247-ca02-a76a3312c018"
      },
      "outputs": [
        {
          "data": {
            "text/plain": [
              "0.5798713645545056"
            ]
          },
          "execution_count": 49,
          "metadata": {},
          "output_type": "execute_result"
        }
      ],
      "source": [
        "regression_model.score(x_test, y_test)\n"
      ]
    },
    {
      "cell_type": "code",
      "execution_count": null,
      "metadata": {
        "id": "_JrBNh2HK5wA",
        "outputId": "f5079dc0-69af-4535-dd91-e023d8b8977c"
      },
      "outputs": [
        {
          "name": "stdout",
          "output_type": "stream",
          "text": [
            "Slope: [ 0.03690809  0.20108316 -0.02293083  0.0927272 ]\n",
            "Intercept: -1.1172357127295118\n",
            "Mean squared error:  0.09336191898788765\n",
            "Root mean squared error:  0.305551827007936\n",
            "R2 score:  0.5798713645545056\n"
          ]
        }
      ],
      "source": [
        "from sklearn.metrics import mean_squared_error, r2_score\n",
        "\n",
        "# model evaluation\n",
        "mse = mean_squared_error(y_test, y_predicted)\n",
        "r2 = r2_score(y_test, y_predicted)\n",
        "\n",
        "# printing values\n",
        "print('Slope:' ,regression_model.coef_)\n",
        "print('Intercept:', regression_model.intercept_)\n",
        "print('Mean squared error: ', mse)\n",
        "print('Root mean squared error: ', mse**(1/2.0))\n",
        "print('R2 score: ', r2)"
      ]
    }
  ],
  "metadata": {
    "colab": {
      "provenance": []
    },
    "kernelspec": {
      "display_name": "Python 3",
      "language": "python",
      "name": "python3"
    },
    "language_info": {
      "codemirror_mode": {
        "name": "ipython",
        "version": 3
      },
      "file_extension": ".py",
      "mimetype": "text/x-python",
      "name": "python",
      "nbconvert_exporter": "python",
      "pygments_lexer": "ipython3",
      "version": "3.7.3"
    }
  },
  "nbformat": 4,
  "nbformat_minor": 0
}