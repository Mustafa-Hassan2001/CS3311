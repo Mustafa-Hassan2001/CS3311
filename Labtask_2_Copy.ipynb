{
  "cells": [
    {
      "cell_type": "markdown",
      "metadata": {
        "id": "yxAqvd-2RZUI"
      },
      "source": [
        "##Task 01  --- pandas\n",
        "Read from car.csv file. Take the first row as column names.\n",
        "\n",
        "Identify (and save as list) numerical and non-numerical columns.(This will help in following steps)."
      ]
    },
    {
      "cell_type": "code",
      "execution_count": null,
      "metadata": {
        "id": "BubRRSSRATKP",
        "outputId": "0c9d3a5b-9b97-4c71-d315-60b62ca8355f"
      },
      "outputs": [
        {
          "name": "stdout",
          "output_type": "stream",
          "text": [
            "Numerical columns: ['Min.Price', 'Price', 'Max.Price', 'MPG.city', 'MPG.highway', 'EngineSize', 'Horsepower', 'RPM', 'Rev.per.mile', 'Fuel.tank.capacity', 'Passengers', 'Length', 'Wheelbase', 'Width', 'Turn.circle', 'Rear.seat.room', 'Luggage.room', 'Weight']\n",
            "Non-numerical columns: ['Manufacturer', 'Model', 'Type', 'AirBags', 'DriveTrain', 'Cylinders', 'Man.trans.avail', 'Origin', 'Make']\n"
          ]
        }
      ],
      "source": [
        "import pandas as pd\n",
        "df = pd.read_csv('Cars93.txt', delimiter=',')\n",
        "\n",
        "numerical_cols = list(df.select_dtypes(include=['int64', 'float64']).columns)\n",
        "non_numerical_cols = list(df.select_dtypes(exclude=['int64', 'float64']).columns)\n",
        "\n",
        "print('Numerical columns:', numerical_cols)\n",
        "print('Non-numerical columns:', non_numerical_cols)"
      ]
    },
    {
      "cell_type": "markdown",
      "metadata": {
        "id": "un-RSvmWRcFM"
      },
      "source": [
        "Using positions, print the number of Cylinders for the car in the 5th row."
      ]
    },
    {
      "cell_type": "code",
      "execution_count": null,
      "metadata": {
        "id": "SdxUTWYARcht",
        "outputId": "3d4801eb-3736-4f01-a5fa-20568f05532f"
      },
      "outputs": [
        {
          "name": "stdout",
          "output_type": "stream",
          "text": [
            "6\n"
          ]
        }
      ],
      "source": [
        "print(df.iloc[6]['Cylinders'])"
      ]
    },
    {
      "cell_type": "markdown",
      "metadata": {
        "id": "8xquZssVSG3v"
      },
      "source": [
        "Set the \"\tDriveTrain\" column as index and sort descending with respect to it."
      ]
    },
    {
      "cell_type": "code",
      "execution_count": null,
      "metadata": {
        "id": "Yt8n8r3dSHXY",
        "outputId": "5dde978c-38c7-4f4d-8ea0-22834f4bd8f5"
      },
      "outputs": [
        {
          "name": "stdout",
          "output_type": "stream",
          "text": [
            "     Manufacturer           Model     Type  Min.Price  Price  Max.Price  \\\n",
            "80         Subaru          Loyale    Small       10.5   10.9       11.3   \n",
            "71       Plymouth           Laser   Sporty       11.4   14.4       17.4   \n",
            "27          Dodge         Stealth   Sporty       18.5   25.8       33.1   \n",
            "86         Toyota          Previa      Van       18.9   22.7       26.6   \n",
            "35           Ford        Aerostar      Van       14.5   19.9       25.3   \n",
            "55          Mazda             MPV      Van       16.6   19.1       21.7   \n",
            "16      Chevrolet           Astro      Van       14.7   16.6       18.6   \n",
            "81         Subaru          Legacy  Compact       16.3   19.5       22.7   \n",
            "25          Dodge         Caravan      Van       13.6   19.0       24.4   \n",
            "79         Subaru           Justy    Small        7.3    8.4        9.5   \n",
            "66         Nissan          Maxima  Midsize       21.0   21.5       22.0   \n",
            "65         Nissan           Quest      Van       16.7   19.1       21.5   \n",
            "64         Nissan          Altima  Compact       13.0   15.7       18.3   \n",
            "63         Nissan          Sentra    Small        8.7   11.8       14.9   \n",
            "0           Acura         Integra    Small       12.9   15.9       18.8   \n",
            "61     Mitsubishi          Mirage    Small        7.7   10.3       12.9   \n",
            "59        Mercury           Capri   Sporty       13.3   14.1       15.0   \n",
            "69     Oldsmobile      Silhouette      Van       19.5   19.5       19.5   \n",
            "43        Hyundai           Excel    Small        6.8    8.0        9.2   \n",
            "52          Mazda             323    Small        7.4    8.3        9.1   \n",
            "50        Lincoln     Continental  Midsize       33.3   34.3       35.3   \n",
            "48          Lexus           ES300  Midsize       27.5   28.0       28.4   \n",
            "54          Mazda             626  Compact       14.3   16.5       18.7   \n",
            "70     Oldsmobile    Eighty-Eight    Large       19.5   20.7       21.9   \n",
            "72        Pontiac          LeMans    Small        8.2    9.0        9.9   \n",
            "45        Hyundai          Scoupe   Sporty        9.1   10.0       11.0   \n",
            "78         Saturn              SL    Small        9.2   11.1       12.9   \n",
            "82         Suzuki           Swift    Small        7.3    8.6       10.0   \n",
            "88     Volkswagen         Eurovan      Van       16.6   19.7       22.7   \n",
            "87     Volkswagen             Fox    Small        8.7    9.1        9.5   \n",
            "..            ...             ...      ...        ...    ...        ...   \n",
            "32           Ford           Tempo  Compact       10.4   11.3       12.2   \n",
            "1           Acura          Legend  Midsize       29.2   33.9       38.7   \n",
            "11      Chevrolet        Cavalier  Compact        8.5   13.4       18.3   \n",
            "39            Geo           Storm   Sporty       11.5   12.5       13.5   \n",
            "41          Honda           Civic    Small        8.4   12.1       15.8   \n",
            "40          Honda         Prelude   Sporty       17.0   19.8       22.7   \n",
            "42          Honda          Accord  Compact       13.8   17.5       21.2   \n",
            "19       Chrylser        Concorde    Large       18.4   18.4       18.4   \n",
            "29          Eagle          Vision    Large       17.5   19.3       21.2   \n",
            "34           Ford           Probe   Sporty       12.8   14.0       15.2   \n",
            "36           Ford          Taurus  Midsize       15.6   20.2       24.8   \n",
            "92          Volvo             850  Midsize       24.8   26.7       28.5   \n",
            "31           Ford          Escort    Small        8.4   10.1       11.9   \n",
            "2            Audi              90  Compact       25.9   29.1       32.3   \n",
            "7           Buick      Roadmaster    Large       22.6   23.7       24.9   \n",
            "33           Ford         Mustang   Sporty       10.8   15.9       21.0   \n",
            "51        Lincoln        Town_Car    Large       34.4   36.1       37.8   \n",
            "47       Infiniti             Q45  Midsize       45.4   47.9       50.4   \n",
            "4             BMW            535i  Midsize       23.7   30.0       36.2   \n",
            "49          Lexus           SC300  Midsize       34.7   35.2       35.6   \n",
            "18      Chevrolet        Corvette   Sporty       34.6   38.0       41.5   \n",
            "58  Mercedes-Benz            300E  Midsize       43.8   61.9       80.0   \n",
            "13      Chevrolet          Camaro   Sporty       13.4   15.1       16.8   \n",
            "57  Mercedes-Benz            190E  Compact       29.0   31.9       34.9   \n",
            "56          Mazda            RX-7   Sporty       32.5   32.5       32.5   \n",
            "17      Chevrolet         Caprice    Large       18.0   18.8       19.6   \n",
            "74        Pontiac        Firebird   Sporty       14.0   17.7       21.4   \n",
            "91          Volvo             240  Compact       21.8   22.7       23.5   \n",
            "37           Ford  Crown_Victoria    Large       20.1   20.9       21.7   \n",
            "60        Mercury          Cougar  Midsize       14.9   14.9       14.9   \n",
            "\n",
            "    MPG.city  MPG.highway             AirBags DriveTrain  ... Passengers  \\\n",
            "80        25           30                None        4WD  ...          5   \n",
            "71        23           30                None        4WD  ...          4   \n",
            "27        18           24         Driver only        4WD  ...          4   \n",
            "86        18           22         Driver only        4WD  ...          7   \n",
            "35        15           20         Driver only        4WD  ...          7   \n",
            "55        18           24                None        4WD  ...          7   \n",
            "16        15           20                None        4WD  ...          8   \n",
            "81        23           30         Driver only        4WD  ...          5   \n",
            "25        17           21         Driver only        4WD  ...          7   \n",
            "79        33           37                None        4WD  ...          4   \n",
            "66        21           26         Driver only      Front  ...          5   \n",
            "65        17           23                None      Front  ...          7   \n",
            "64        24           30         Driver only      Front  ...          5   \n",
            "63        29           33         Driver only      Front  ...          5   \n",
            "0         25           31                None      Front  ...          5   \n",
            "61        29           33                None      Front  ...          5   \n",
            "59        23           26         Driver only      Front  ...          4   \n",
            "69        18           23                None      Front  ...          7   \n",
            "43        29           33                None      Front  ...          5   \n",
            "52        29           37                None      Front  ...          4   \n",
            "50        17           26  Driver & Passenger      Front  ...          6   \n",
            "48        18           24         Driver only      Front  ...          5   \n",
            "54        26           34         Driver only      Front  ...          5   \n",
            "70        19           28         Driver only      Front  ...          6   \n",
            "72        31           41                None      Front  ...          4   \n",
            "45        26           34                None      Front  ...          4   \n",
            "78        28           38         Driver only      Front  ...          5   \n",
            "82        39           43                None      Front  ...          4   \n",
            "88        17           21                None      Front  ...          7   \n",
            "87        25           33                None      Front  ...          4   \n",
            "..       ...          ...                 ...        ...  ...        ...   \n",
            "32        22           27                None      Front  ...          5   \n",
            "1         18           25  Driver & Passenger      Front  ...          5   \n",
            "11        25           36                None      Front  ...          5   \n",
            "39        30           36         Driver only      Front  ...          4   \n",
            "41        42           46         Driver only      Front  ...          4   \n",
            "40        24           31  Driver & Passenger      Front  ...          4   \n",
            "42        24           31  Driver & Passenger      Front  ...          4   \n",
            "19        20           28  Driver & Passenger      Front  ...          6   \n",
            "29        20           28  Driver & Passenger      Front  ...          6   \n",
            "34        24           30         Driver only      Front  ...          4   \n",
            "36        21           30         Driver only      Front  ...          5   \n",
            "92        20           28  Driver & Passenger      Front  ...          5   \n",
            "31        23           30                None      Front  ...          5   \n",
            "2         20           26         Driver only      Front  ...          5   \n",
            "7         16           25         Driver only       Rear  ...          6   \n",
            "33        22           29         Driver only       Rear  ...          4   \n",
            "51        18           26  Driver & Passenger       Rear  ...          6   \n",
            "47        17           22         Driver only       Rear  ...          5   \n",
            "4         22           30         Driver only       Rear  ...          4   \n",
            "49        18           23  Driver & Passenger       Rear  ...          4   \n",
            "18        17           25         Driver only       Rear  ...          2   \n",
            "58        19           25  Driver & Passenger       Rear  ...          5   \n",
            "13        19           28  Driver & Passenger       Rear  ...          4   \n",
            "57        20           29         Driver only       Rear  ...          5   \n",
            "56        17           25         Driver only       Rear  ...          2   \n",
            "17        17           26         Driver only       Rear  ...          6   \n",
            "74        19           28  Driver & Passenger       Rear  ...          4   \n",
            "91        21           28         Driver only       Rear  ...          5   \n",
            "37        18           26         Driver only       Rear  ...          6   \n",
            "60        19           26                None       Rear  ...          5   \n",
            "\n",
            "    Length  Wheelbase  Width  Turn.circle Rear.seat.room  Luggage.room  \\\n",
            "80     175         97     65           35           27.5          15.0   \n",
            "71     173         97     67           39           24.5           8.0   \n",
            "27     180         97     72           40           20.0          11.0   \n",
            "86     187        113     71           41           35.0           NaN   \n",
            "35     176        119     72           45           30.0           NaN   \n",
            "55     190        110     72           39           27.5           NaN   \n",
            "16     194        111     78           42           33.5           NaN   \n",
            "81     179        102     67           37           27.0          14.0   \n",
            "25     175        112     72           42           26.5           NaN   \n",
            "79     146         90     60           32           23.5          10.0   \n",
            "66     188        104     69           41           28.5          14.0   \n",
            "65     190        112     74           41           27.0           NaN   \n",
            "64     181        103     67           40           28.5          14.0   \n",
            "63     170         96     66           33           26.0          12.0   \n",
            "0      177        102     68           37           26.5          11.0   \n",
            "61     172         98     67           36           26.0          11.0   \n",
            "59     166         95     65           36           19.0           6.0   \n",
            "69     194        110     74           44           30.5           NaN   \n",
            "43     168         94     63           35           26.0          11.0   \n",
            "52     164         97     66           34           27.0          16.0   \n",
            "50     205        109     73           42           30.0          19.0   \n",
            "48     188        103     70           40           27.5          14.0   \n",
            "54     184        103     69           40           29.5          14.0   \n",
            "70     201        111     74           42           31.5          17.0   \n",
            "72     177         99     66           35           25.5          17.0   \n",
            "45     166         94     64           34           23.5           9.0   \n",
            "78     176        102     68           40           26.5          12.0   \n",
            "82     161         93     63           34           27.5          10.0   \n",
            "88     187        115     72           38           34.0           NaN   \n",
            "87     163         93     63           34           26.0          10.0   \n",
            "..     ...        ...    ...          ...            ...           ...   \n",
            "32     177        100     68           39           27.5          13.0   \n",
            "1      195        115     71           38           30.0          15.0   \n",
            "11     182        101     66           38           25.0          13.0   \n",
            "39     164         97     67           37           24.5          11.0   \n",
            "41     173        103     67           36           28.0          12.0   \n",
            "40     175        100     70           39           23.5           8.0   \n",
            "42     185        107     67           41           28.0          14.0   \n",
            "19     203        113     74           40           31.0          15.0   \n",
            "29     202        113     74           40           30.0          15.0   \n",
            "34     179        103     70           38           23.0          18.0   \n",
            "36     192        106     71           40           27.5          18.0   \n",
            "92     184        105     69           38           30.0          15.0   \n",
            "31     171         98     67           36           28.0          12.0   \n",
            "2      180        102     67           37           28.0          14.0   \n",
            "7      216        116     78           45           30.5          21.0   \n",
            "33     180        101     68           40           24.0          12.0   \n",
            "51     219        117     77           45           31.5          22.0   \n",
            "47     200        113     72           42           29.0          15.0   \n",
            "4      186        109     69           39           27.0          13.0   \n",
            "49     191        106     71           39           25.0           9.0   \n",
            "18     179         96     74           43            NaN           NaN   \n",
            "58     187        110     69           37           27.0          15.0   \n",
            "13     193        101     74           43           25.0          13.0   \n",
            "57     175        105     67           34           26.0          12.0   \n",
            "56     169         96     69           37            NaN           NaN   \n",
            "17     214        116     77           42           29.5          20.0   \n",
            "74     196        101     75           43           25.0          13.0   \n",
            "91     190        104     67           37           29.5          14.0   \n",
            "37     212        114     78           43           30.0          21.0   \n",
            "60     199        113     73           38           28.0          15.0   \n",
            "\n",
            "    Weight   Origin                     Make  \n",
            "80    2490  non-USA            Subaru Loyale  \n",
            "71    2640      USA           Plymouth Laser  \n",
            "27    3805      USA            Dodge Stealth  \n",
            "86    3785  non-USA            Toyota Previa  \n",
            "35    3735      USA            Ford Aerostar  \n",
            "55    3735  non-USA                Mazda MPV  \n",
            "16    4025      USA          Chevrolet Astro  \n",
            "81    3085  non-USA            Subaru Legacy  \n",
            "25    3705      USA            Dodge Caravan  \n",
            "79    2045  non-USA             Subaru Justy  \n",
            "66    3200  non-USA            Nissan Maxima  \n",
            "65    4100  non-USA             Nissan Quest  \n",
            "64    3050  non-USA            Nissan Altima  \n",
            "63    2545  non-USA            Nissan Sentra  \n",
            "0     2705  non-USA            Acura Integra  \n",
            "61    2295  non-USA        Mitsubishi Mirage  \n",
            "59    2450      USA            Mercury Capri  \n",
            "69    3715      USA    Oldsmobile Silhouette  \n",
            "43    2345  non-USA            Hyundai Excel  \n",
            "52    2325  non-USA                Mazda 323  \n",
            "50    3695      USA      Lincoln Continental  \n",
            "48    3510  non-USA              Lexus ES300  \n",
            "54    2970  non-USA                Mazda 626  \n",
            "70    3470      USA  Oldsmobile Eighty-Eight  \n",
            "72    2350      USA           Pontiac LeMans  \n",
            "45    2285  non-USA           Hyundai Scoupe  \n",
            "78    2495      USA                Saturn SL  \n",
            "82    1965  non-USA             Suzuki Swift  \n",
            "88    3960  non-USA       Volkswagen Eurovan  \n",
            "87    2240  non-USA           Volkswagen Fox  \n",
            "..     ...      ...                      ...  \n",
            "32    2690      USA               Ford Tempo  \n",
            "1     3560  non-USA             Acura Legend  \n",
            "11    2490      USA       Chevrolet Cavalier  \n",
            "39    2475  non-USA                Geo Storm  \n",
            "41    2350  non-USA              Honda Civic  \n",
            "40    2865  non-USA            Honda Prelude  \n",
            "42    3040  non-USA             Honda Accord  \n",
            "19    3515      USA        Chrylser Concorde  \n",
            "29    3490      USA             Eagle Vision  \n",
            "34    2710      USA               Ford Probe  \n",
            "36    3325      USA              Ford Taurus  \n",
            "92    3245  non-USA                Volvo 850  \n",
            "31    2530      USA              Ford Escort  \n",
            "2     3375  non-USA                  Audi 90  \n",
            "7     4105      USA         Buick Roadmaster  \n",
            "33    2850      USA             Ford Mustang  \n",
            "51    4055      USA         Lincoln Town_Car  \n",
            "47    4000  non-USA             Infiniti Q45  \n",
            "4     3640  non-USA                 BMW 535i  \n",
            "49    3515  non-USA              Lexus SC300  \n",
            "18    3380      USA       Chevrolet Corvette  \n",
            "58    3525  non-USA       Mercedes-Benz 300E  \n",
            "13    3240      USA         Chevrolet Camaro  \n",
            "57    2920  non-USA       Mercedes-Benz 190E  \n",
            "56    2895  non-USA               Mazda RX-7  \n",
            "17    3910      USA        Chevrolet Caprice  \n",
            "74    3240      USA         Pontiac Firebird  \n",
            "91    2985  non-USA                Volvo 240  \n",
            "37    3950      USA      Ford Crown_Victoria  \n",
            "60    3610      USA           Mercury Cougar  \n",
            "\n",
            "[93 rows x 27 columns]\n"
          ]
        }
      ],
      "source": [
        "import numpy as np\n",
        "reverse = df.sort_values(by=\n",
        "              ['DriveTrain'],\n",
        "              inplace=True)\n",
        "print(df)\n",
        "np.flip(reverse)"
      ]
    },
    {
      "cell_type": "markdown",
      "metadata": {
        "id": "OVC-qNp6STDR"
      },
      "source": [
        "##Task 02  --- numpy\n",
        "\n",
        " Minmax Scaler. This is another method to normalize the data between 0 and 1 using the following formula.\n",
        "\n",
        "$$ x_{normalized} =\\frac{x-x_{min}}{x_{max} -x_{min}} $$\n",
        "\n",
        "For the following numpy array, apply this normalization technique. Round the results to 3 decimal digits\n",
        "\n",
        "\n",
        "\n",
        "```\n",
        "x = np.random.randint(120,size=30)\n",
        "```\n",
        "\n"
      ]
    },
    {
      "cell_type": "code",
      "execution_count": null,
      "metadata": {
        "id": "2uR5AZ9nhrjH",
        "outputId": "d748bd91-b464-4c7c-a342-5809112da189"
      },
      "outputs": [
        {
          "name": "stdout",
          "output_type": "stream",
          "text": [
            "[ 1000  3000 11900 10800  7900 10300  1600  3400   800  3400  3900  8200\n",
            " 11800  3800  5500 11900  3000  3800  5200  9300 10200  9800  4700 11600\n",
            "  9800  3900  3100  7800  9200 11100]\n"
          ]
        }
      ],
      "source": [
        "import numpy as np\n",
        "\n",
        "x = np.random.randint(120,size=30)\n",
        "\n",
        "x_normalized = (x-0)*(100-0)\n",
        "np.round(x_normalized)\n",
        "print(x_normalized)\n",
        "\n"
      ]
    },
    {
      "cell_type": "markdown",
      "metadata": {
        "id": "QbNt0LJ0TEvd"
      },
      "source": [
        "## Task 03\n",
        "\n",
        "Draw box-plots for the numeric columns and differentitate them by 'Man.trans.avail' column."
      ]
    },
    {
      "cell_type": "code",
      "execution_count": null,
      "metadata": {
        "id": "18KtSMSshrjJ",
        "outputId": "3f2dbc71-1c05-44f1-e306-399d007bb106"
      },
      "outputs": [
        {
          "data": {
            "image/png": "[encoded data removed]",
            "text/plain": [
              "<Figure size 432x288 with 1 Axes>"
            ]
          },
          "metadata": {
            "needs_background": "light"
          },
          "output_type": "display_data"
        },
        {
          "data": {
            "image/png": "[encoded data removed]",
            "text/plain": [
              "<Figure size 720x720 with 20 Axes>"
            ]
          },
          "metadata": {
            "needs_background": "light"
          },
          "output_type": "display_data"
        }
      ],
      "source": [
        "import matplotlib.pyplot as plt\n",
        "df.hist(column=['Cylinders', 'Horsepower'])\n",
        "\n",
        "# show the plot\n",
        "plt.show()\n",
        "df.boxplot(by='Man.trans.avail',figsize=(10,10))\n",
        "plt.show()"
      ]
    },
    {
      "cell_type": "markdown",
      "metadata": {
        "id": "q8tqmYZaTLOm"
      },
      "source": [
        "## Task 04\n",
        "\n",
        "For numerical column (Price, MPG.City, MPG.Highway, EngineSize,Turn.circle and differentiate), draw a scatterPlot.\n",
        "\n",
        "Again draw same plot but this time drop Price and Turn.circle.  (Hint: Use drop() function)."
      ]
    },
    {
      "cell_type": "code",
      "execution_count": null,
      "metadata": {
        "id": "xaFWFB0WhrjK",
        "outputId": "5dfda184-a8d9-48e0-e612-1d11170fd096"
      },
      "outputs": [
        {
          "ename": "KeyError",
          "evalue": "'MPG.City'",
          "output_type": "error",
          "traceback": [
            "\u001b[1;31m---------------------------------------------------------------------------\u001b[0m",
            "\u001b[1;31mKeyError\u001b[0m                                  Traceback (most recent call last)",
            "\u001b[1;32mC:\\ProgramData\\Anaconda3\\lib\\site-packages\\pandas\\core\\indexes\\base.py\u001b[0m in \u001b[0;36mget_loc\u001b[1;34m(self, key, method, tolerance)\u001b[0m\n\u001b[0;32m   2656\u001b[0m             \u001b[1;32mtry\u001b[0m\u001b[1;33m:\u001b[0m\u001b[1;33m\u001b[0m\u001b[1;33m\u001b[0m\u001b[0m\n\u001b[1;32m-> 2657\u001b[1;33m                 \u001b[1;32mreturn\u001b[0m \u001b[0mself\u001b[0m\u001b[1;33m.\u001b[0m\u001b[0m_engine\u001b[0m\u001b[1;33m.\u001b[0m\u001b[0mget_loc\u001b[0m\u001b[1;33m(\u001b[0m\u001b[0mkey\u001b[0m\u001b[1;33m)\u001b[0m\u001b[1;33m\u001b[0m\u001b[1;33m\u001b[0m\u001b[0m\n\u001b[0m\u001b[0;32m   2658\u001b[0m             \u001b[1;32mexcept\u001b[0m \u001b[0mKeyError\u001b[0m\u001b[1;33m:\u001b[0m\u001b[1;33m\u001b[0m\u001b[1;33m\u001b[0m\u001b[0m\n",
            "\u001b[1;32mpandas/_libs/index.pyx\u001b[0m in \u001b[0;36mpandas._libs.index.IndexEngine.get_loc\u001b[1;34m()\u001b[0m\n",
            "\u001b[1;32mpandas/_libs/index.pyx\u001b[0m in \u001b[0;36mpandas._libs.index.IndexEngine.get_loc\u001b[1;34m()\u001b[0m\n",
            "\u001b[1;32mpandas/_libs/hashtable_class_helper.pxi\u001b[0m in \u001b[0;36mpandas._libs.hashtable.PyObjectHashTable.get_item\u001b[1;34m()\u001b[0m\n",
            "\u001b[1;32mpandas/_libs/hashtable_class_helper.pxi\u001b[0m in \u001b[0;36mpandas._libs.hashtable.PyObjectHashTable.get_item\u001b[1;34m()\u001b[0m\n",
            "\u001b[1;31mKeyError\u001b[0m: 'MPG.City'",
            "\nDuring handling of the above exception, another exception occurred:\n",
            "\u001b[1;31mKeyError\u001b[0m                                  Traceback (most recent call last)",
            "\u001b[1;32m<ipython-input-33-bdeb98af9312>\u001b[0m in \u001b[0;36m<module>\u001b[1;34m\u001b[0m\n\u001b[0;32m      9\u001b[0m     \u001b[1;32mfor\u001b[0m \u001b[0mj\u001b[0m \u001b[1;32min\u001b[0m \u001b[0mrange\u001b[0m\u001b[1;33m(\u001b[0m\u001b[0mi\u001b[0m\u001b[1;33m+\u001b[0m\u001b[1;36m1\u001b[0m\u001b[1;33m,\u001b[0m \u001b[0mlen\u001b[0m\u001b[1;33m(\u001b[0m\u001b[0mnumerical_columns\u001b[0m\u001b[1;33m)\u001b[0m\u001b[1;33m)\u001b[0m\u001b[1;33m:\u001b[0m\u001b[1;33m\u001b[0m\u001b[1;33m\u001b[0m\u001b[0m\n\u001b[0;32m     10\u001b[0m         \u001b[0mplt\u001b[0m\u001b[1;33m.\u001b[0m\u001b[0mfigure\u001b[0m\u001b[1;33m(\u001b[0m\u001b[0mfigsize\u001b[0m\u001b[1;33m=\u001b[0m\u001b[1;33m(\u001b[0m\u001b[1;36m5\u001b[0m\u001b[1;33m,\u001b[0m \u001b[1;36m5\u001b[0m\u001b[1;33m)\u001b[0m\u001b[1;33m)\u001b[0m\u001b[1;33m\u001b[0m\u001b[1;33m\u001b[0m\u001b[0m\n\u001b[1;32m---> 11\u001b[1;33m         \u001b[0mplt\u001b[0m\u001b[1;33m.\u001b[0m\u001b[0mscatter\u001b[0m\u001b[1;33m(\u001b[0m\u001b[0mdf\u001b[0m\u001b[1;33m[\u001b[0m\u001b[0mnumerical_columns\u001b[0m\u001b[1;33m[\u001b[0m\u001b[0mi\u001b[0m\u001b[1;33m]\u001b[0m\u001b[1;33m]\u001b[0m\u001b[1;33m,\u001b[0m \u001b[0mdf\u001b[0m\u001b[1;33m[\u001b[0m\u001b[0mnumerical_columns\u001b[0m\u001b[1;33m[\u001b[0m\u001b[0mj\u001b[0m\u001b[1;33m]\u001b[0m\u001b[1;33m]\u001b[0m\u001b[1;33m)\u001b[0m\u001b[1;33m\u001b[0m\u001b[1;33m\u001b[0m\u001b[0m\n\u001b[0m\u001b[0;32m     12\u001b[0m         \u001b[0mplt\u001b[0m\u001b[1;33m.\u001b[0m\u001b[0mxlabel\u001b[0m\u001b[1;33m(\u001b[0m\u001b[0mnumerical_columns\u001b[0m\u001b[1;33m[\u001b[0m\u001b[0mi\u001b[0m\u001b[1;33m]\u001b[0m\u001b[1;33m)\u001b[0m\u001b[1;33m\u001b[0m\u001b[1;33m\u001b[0m\u001b[0m\n\u001b[0;32m     13\u001b[0m         \u001b[0mplt\u001b[0m\u001b[1;33m.\u001b[0m\u001b[0mylabel\u001b[0m\u001b[1;33m(\u001b[0m\u001b[0mnumerical_columns\u001b[0m\u001b[1;33m[\u001b[0m\u001b[0mj\u001b[0m\u001b[1;33m]\u001b[0m\u001b[1;33m)\u001b[0m\u001b[1;33m\u001b[0m\u001b[1;33m\u001b[0m\u001b[0m\n",
            "\u001b[1;32mC:\\ProgramData\\Anaconda3\\lib\\site-packages\\pandas\\core\\frame.py\u001b[0m in \u001b[0;36m__getitem__\u001b[1;34m(self, key)\u001b[0m\n\u001b[0;32m   2925\u001b[0m             \u001b[1;32mif\u001b[0m \u001b[0mself\u001b[0m\u001b[1;33m.\u001b[0m\u001b[0mcolumns\u001b[0m\u001b[1;33m.\u001b[0m\u001b[0mnlevels\u001b[0m \u001b[1;33m>\u001b[0m \u001b[1;36m1\u001b[0m\u001b[1;33m:\u001b[0m\u001b[1;33m\u001b[0m\u001b[1;33m\u001b[0m\u001b[0m\n\u001b[0;32m   2926\u001b[0m                 \u001b[1;32mreturn\u001b[0m \u001b[0mself\u001b[0m\u001b[1;33m.\u001b[0m\u001b[0m_getitem_multilevel\u001b[0m\u001b[1;33m(\u001b[0m\u001b[0mkey\u001b[0m\u001b[1;33m)\u001b[0m\u001b[1;33m\u001b[0m\u001b[1;33m\u001b[0m\u001b[0m\n\u001b[1;32m-> 2927\u001b[1;33m             \u001b[0mindexer\u001b[0m \u001b[1;33m=\u001b[0m \u001b[0mself\u001b[0m\u001b[1;33m.\u001b[0m\u001b[0mcolumns\u001b[0m\u001b[1;33m.\u001b[0m\u001b[0mget_loc\u001b[0m\u001b[1;33m(\u001b[0m\u001b[0mkey\u001b[0m\u001b[1;33m)\u001b[0m\u001b[1;33m\u001b[0m\u001b[1;33m\u001b[0m\u001b[0m\n\u001b[0m\u001b[0;32m   2928\u001b[0m             \u001b[1;32mif\u001b[0m \u001b[0mis_integer\u001b[0m\u001b[1;33m(\u001b[0m\u001b[0mindexer\u001b[0m\u001b[1;33m)\u001b[0m\u001b[1;33m:\u001b[0m\u001b[1;33m\u001b[0m\u001b[1;33m\u001b[0m\u001b[0m\n\u001b[0;32m   2929\u001b[0m                 \u001b[0mindexer\u001b[0m \u001b[1;33m=\u001b[0m \u001b[1;33m[\u001b[0m\u001b[0mindexer\u001b[0m\u001b[1;33m]\u001b[0m\u001b[1;33m\u001b[0m\u001b[1;33m\u001b[0m\u001b[0m\n",
            "\u001b[1;32mC:\\ProgramData\\Anaconda3\\lib\\site-packages\\pandas\\core\\indexes\\base.py\u001b[0m in \u001b[0;36mget_loc\u001b[1;34m(self, key, method, tolerance)\u001b[0m\n\u001b[0;32m   2657\u001b[0m                 \u001b[1;32mreturn\u001b[0m \u001b[0mself\u001b[0m\u001b[1;33m.\u001b[0m\u001b[0m_engine\u001b[0m\u001b[1;33m.\u001b[0m\u001b[0mget_loc\u001b[0m\u001b[1;33m(\u001b[0m\u001b[0mkey\u001b[0m\u001b[1;33m)\u001b[0m\u001b[1;33m\u001b[0m\u001b[1;33m\u001b[0m\u001b[0m\n\u001b[0;32m   2658\u001b[0m             \u001b[1;32mexcept\u001b[0m \u001b[0mKeyError\u001b[0m\u001b[1;33m:\u001b[0m\u001b[1;33m\u001b[0m\u001b[1;33m\u001b[0m\u001b[0m\n\u001b[1;32m-> 2659\u001b[1;33m                 \u001b[1;32mreturn\u001b[0m \u001b[0mself\u001b[0m\u001b[1;33m.\u001b[0m\u001b[0m_engine\u001b[0m\u001b[1;33m.\u001b[0m\u001b[0mget_loc\u001b[0m\u001b[1;33m(\u001b[0m\u001b[0mself\u001b[0m\u001b[1;33m.\u001b[0m\u001b[0m_maybe_cast_indexer\u001b[0m\u001b[1;33m(\u001b[0m\u001b[0mkey\u001b[0m\u001b[1;33m)\u001b[0m\u001b[1;33m)\u001b[0m\u001b[1;33m\u001b[0m\u001b[1;33m\u001b[0m\u001b[0m\n\u001b[0m\u001b[0;32m   2660\u001b[0m         \u001b[0mindexer\u001b[0m \u001b[1;33m=\u001b[0m \u001b[0mself\u001b[0m\u001b[1;33m.\u001b[0m\u001b[0mget_indexer\u001b[0m\u001b[1;33m(\u001b[0m\u001b[1;33m[\u001b[0m\u001b[0mkey\u001b[0m\u001b[1;33m]\u001b[0m\u001b[1;33m,\u001b[0m \u001b[0mmethod\u001b[0m\u001b[1;33m=\u001b[0m\u001b[0mmethod\u001b[0m\u001b[1;33m,\u001b[0m \u001b[0mtolerance\u001b[0m\u001b[1;33m=\u001b[0m\u001b[0mtolerance\u001b[0m\u001b[1;33m)\u001b[0m\u001b[1;33m\u001b[0m\u001b[1;33m\u001b[0m\u001b[0m\n\u001b[0;32m   2661\u001b[0m         \u001b[1;32mif\u001b[0m \u001b[0mindexer\u001b[0m\u001b[1;33m.\u001b[0m\u001b[0mndim\u001b[0m \u001b[1;33m>\u001b[0m \u001b[1;36m1\u001b[0m \u001b[1;32mor\u001b[0m \u001b[0mindexer\u001b[0m\u001b[1;33m.\u001b[0m\u001b[0msize\u001b[0m \u001b[1;33m>\u001b[0m \u001b[1;36m1\u001b[0m\u001b[1;33m:\u001b[0m\u001b[1;33m\u001b[0m\u001b[1;33m\u001b[0m\u001b[0m\n",
            "\u001b[1;32mpandas/_libs/index.pyx\u001b[0m in \u001b[0;36mpandas._libs.index.IndexEngine.get_loc\u001b[1;34m()\u001b[0m\n",
            "\u001b[1;32mpandas/_libs/index.pyx\u001b[0m in \u001b[0;36mpandas._libs.index.IndexEngine.get_loc\u001b[1;34m()\u001b[0m\n",
            "\u001b[1;32mpandas/_libs/hashtable_class_helper.pxi\u001b[0m in \u001b[0;36mpandas._libs.hashtable.PyObjectHashTable.get_item\u001b[1;34m()\u001b[0m\n",
            "\u001b[1;32mpandas/_libs/hashtable_class_helper.pxi\u001b[0m in \u001b[0;36mpandas._libs.hashtable.PyObjectHashTable.get_item\u001b[1;34m()\u001b[0m\n",
            "\u001b[1;31mKeyError\u001b[0m: 'MPG.City'"
          ]
        },
        {
          "data": {
            "text/plain": [
              "<Figure size 360x360 with 0 Axes>"
            ]
          },
          "metadata": {},
          "output_type": "display_data"
        }
      ],
      "source": [
        "import matplotlib.pyplot as plt\n",
        "import pandas as pd\n",
        "\n",
        "# Assuming df is your DataFrame and it has been defined\n",
        "numerical_columns = ['Price', 'MPG.City', 'MPG.Highway', 'EngineSize', 'Turn.circle', 'differentiate']\n",
        "\n",
        "# Create scatter plots for each pair of numerical columns\n",
        "for i in range(len(numerical_columns)):\n",
        "    for j in range(i+1, len(numerical_columns)):\n",
        "        plt.figure(figsize=(5, 5))\n",
        "        plt.scatter(df[numerical_columns[i]], df[numerical_columns[j]])\n",
        "        plt.xlabel(numerical_columns[i])\n",
        "        plt.ylabel(numerical_columns[j])\n",
        "        plt.title(f'{numerical_columns[i]} vs {numerical_columns[j]}')\n",
        "        plt.show()"
      ]
    },
    {
      "cell_type": "code",
      "execution_count": null,
      "metadata": {
        "id": "6tkJxtlZhrjM"
      },
      "outputs": [],
      "source": []
    }
  ],
  "metadata": {
    "colab": {
      "provenance": []
    },
    "kernelspec": {
      "display_name": "Python 3",
      "language": "python",
      "name": "python3"
    },
    "language_info": {
      "codemirror_mode": {
        "name": "ipython",
        "version": 3
      },
      "file_extension": ".py",
      "mimetype": "text/x-python",
      "name": "python",
      "nbconvert_exporter": "python",
      "pygments_lexer": "ipython3",
      "version": "3.7.3"
    }
  },
  "nbformat": 4,
  "nbformat_minor": 0
}