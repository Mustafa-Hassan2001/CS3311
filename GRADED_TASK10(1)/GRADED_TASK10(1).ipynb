{
  "nbformat": 4,
  "nbformat_minor": 0,
  "metadata": {
    "colab": {
      "provenance": []
    },
    "kernelspec": {
      "name": "python3",
      "display_name": "Python 3"
    },
    "language_info": {
      "name": "python"
    }
  },
  "cells": [
    {
      "cell_type": "code",
      "source": [
        "docs = [\n",
        "    \"Internet security is the collection of practices, technologies, and concepts that shield any Internet-connected software or hardware we use from online threats.  The number of devices we use at home or work that can connect to a network is increasing rapidly. In addition to our laptops, desktops, servers, routers, modems, smartphones, and tablets, our watches, appliances, thermostats, doorbell cameras, and appliances are also Internet-connected devices.Internet connectivity allows our technology to be more useful and convenient, and much smarter. However, opening up the devices and software we rely on to the data superhighway also leaves them vulnerable to hackers, malware, exploits, bots, spam, malicious links and websites. Internet-connected technology is also more susceptible to social engineering attacks like phishing. And sophisticated threat actors can use devices in a network for lateral movements, data exfiltration, or to drop ransomware.With the increasing use of the Internet, cybercriminals have more opportunities to access sensitive data and cause financial losses. Internet security is essential to protect businesses, individuals, and governments from malicious attacks such as hacking, malware, ransomware, and identity theft. It also helps protect financial transactions and other sensitive information from being stolen or misused. Internet security measures can help prevent data breaches that can lead to costly damages for organizations and individuals alike...\"\n",
        "]\n",
        "\n",
        "lines = []\n",
        "for docs in docs:\n",
        "    lines.extend(docs.split('. '))\n",
        "\n",
        "for line in lines:\n",
        "    print(line)"
      ],
      "metadata": {
        "colab": {
          "base_uri": "https://localhost:8080/"
        },
        "id": "ChWB5wXIsiNk",
        "outputId": "a32195c0-b9a9-4e2a-c9dd-7bbd92ee5e73"
      },
      "execution_count": null,
      "outputs": [
        {
          "output_type": "stream",
          "name": "stdout",
          "text": [
            "Internet security is the collection of practices, technologies, and concepts that shield any Internet-connected software or hardware we use from online threats\n",
            " The number of devices we use at home or work that can connect to a network is increasing rapidly\n",
            "In addition to our laptops, desktops, servers, routers, modems, smartphones, and tablets, our watches, appliances, thermostats, doorbell cameras, and appliances are also Internet-connected devices.Internet connectivity allows our technology to be more useful and convenient, and much smarter\n",
            "However, opening up the devices and software we rely on to the data superhighway also leaves them vulnerable to hackers, malware, exploits, bots, spam, malicious links and websites\n",
            "Internet-connected technology is also more susceptible to social engineering attacks like phishing\n",
            "And sophisticated threat actors can use devices in a network for lateral movements, data exfiltration, or to drop ransomware.With the increasing use of the Internet, cybercriminals have more opportunities to access sensitive data and cause financial losses\n",
            "Internet security is essential to protect businesses, individuals, and governments from malicious attacks such as hacking, malware, ransomware, and identity theft\n",
            "It also helps protect financial transactions and other sensitive information from being stolen or misused\n",
            "Internet security measures can help prevent data breaches that can lead to costly damages for organizations and individuals alike...\n"
          ]
        }
      ]
    },
    {
      "cell_type": "code",
      "source": [
        "import spacy\n",
        "# Creting List of Stop Words\n",
        "from spacy.lang.en.stop_words import STOP_WORDS\n",
        "stop_words = spacy.lang.en.stop_words.STOP_WORDS\n",
        "\n",
        "# Creating list of punctuation marks\n",
        "import string\n",
        "punctuations = string.punctuation\n",
        "\n",
        "print(stop_words)\n",
        "print(\"\\n===================\\n\")\n",
        "print(punctuations)"
      ],
      "metadata": {
        "colab": {
          "base_uri": "https://localhost:8080/"
        },
        "id": "0qdv7C52tWMm",
        "outputId": "537f9c19-00e7-4b67-d058-bb2cde0ae14e"
      },
      "execution_count": null,
      "outputs": [
        {
          "output_type": "stream",
          "name": "stdout",
          "text": [
            "{'while', 'same', 'so', 'without', 'did', 'had', 'by', '’re', '’s', 'made', 'herein', 'she', 'not', 'that', 'whole', 'nine', 'him', 'cannot', 'empty', 'otherwise', 'ourselves', 'his', 'besides', 'yourself', 'moreover', 'ours', 'afterwards', 'why', 'yet', 'beyond', 'this', 'has', 'itself', 'became', 'seem', '’ll', 'such', 'us', 'whence', \"'s\", 'anywhere', 'whose', 'during', 'being', 'as', 'make', 'is', 'were', 'one', 'your', 'quite', 'always', '‘re', 'others', 'who', 'until', 'formerly', 'put', 'hereby', 'ten', 'nevertheless', 'hers', 'sometimes', 'sixty', 'anything', 'nothing', 'four', '’ve', 'move', 'two', 'still', 'but', 'enough', 'between', 'own', 'most', 'must', 'more', 'the', 'various', 'those', 'no', 'bottom', 'however', 'never', 'whither', 'six', 'and', 'we', 'fifty', 'ever', 'used', 'well', 'my', \"'re\", 'through', 'say', 'latter', 'should', 'when', 'beforehand', 'in', 'name', 'something', 'they', 'after', 'anyone', 'somehow', 'though', 'will', 'several', 'around', 'hundred', 'really', 'ca', 'thereby', 'hereupon', 'although', 'since', 'other', 'does', 'for', 'are', 'thence', 'become', \"'d\", 'further', 'fifteen', 'even', 'above', '‘ll', '‘m', 'indeed', 'take', 'may', 'themselves', 'please', 'many', 'elsewhere', \"'ll\", 'all', 'somewhere', 'how', 'it', '‘s', 'go', 'using', 'any', 'there', 'hereafter', 'their', 'himself', 'neither', 'me', 'doing', 'these', 'whether', 'latterly', 'due', 'mine', 'a', 'alone', 'into', 'n’t', 'about', 'thereafter', 'becoming', 'few', 'regarding', 'part', 'whom', 'then', 'whereafter', 'already', 'per', 'thru', 'give', 'noone', 'becomes', 'seemed', 'you', 'thereupon', 'therefore', 'every', 'behind', 'beside', 'her', 'see', 'sometime', 'wherein', 'meanwhile', 'just', 'rather', 'onto', 'to', 're', 'toward', 'hence', 'done', 'get', 'only', 'an', 'amongst', 'whereas', 'of', 'be', 'among', 'eleven', 'each', 'show', 'was', 'perhaps', 'out', 'front', 'next', '’d', 'whereupon', 'seeming', \"n't\", 'both', 'via', 'everyone', 'anyhow', 'would', 'have', 'might', 'everything', 'off', 'keep', 'top', 'do', 'least', 'towards', '’m', 'he', 'none', 'against', 'could', 'third', 'which', 'another', 'upon', 'whereby', 'namely', 'either', 'what', 'its', 'very', 'thus', 'across', 'together', 'from', 'anyway', 'yours', 'because', 'often', 'amount', \"'m\", 'than', 'below', 'full', 'less', 'myself', 'at', 'here', 'can', 'almost', 'herself', 'nobody', 'once', 'forty', 'on', 'i', 'much', 'throughout', \"'ve\", 'n‘t', 'eight', 'our', 'call', 'whatever', 'first', '‘ve', 'serious', 'someone', 'back', 'else', '‘d', 'twenty', 'unless', 'within', 'also', 'am', 'nowhere', 'now', 'or', 'therein', 'with', 'before', 'yourselves', 'down', 'seems', 'been', 'nor', 'where', 'wherever', 'last', 'some', 'them', 'side', 'except', 'whoever', 'along', 'too', 'whenever', 'three', 'everywhere', 'former', 'five', 'over', 'up', 'under', 'again', 'mostly', 'twelve', 'if'}\n",
            "\n",
            "===================\n",
            "\n",
            "!\"#$%&'()*+,-./:;<=>?@[\\]^_`{|}~\n"
          ]
        }
      ]
    },
    {
      "cell_type": "code",
      "source": [
        "nlp = spacy.load('en_core_web_sm')"
      ],
      "metadata": {
        "id": "KjdO5KuatWPU"
      },
      "execution_count": null,
      "outputs": []
    },
    {
      "cell_type": "code",
      "source": [
        "prc_docs = [nlp(doc) for doc in docs]\n",
        "print(prc_docs)\n",
        "\n",
        "for tok in prc_docs[0]:\n",
        "  print(tok)"
      ],
      "metadata": {
        "colab": {
          "base_uri": "https://localhost:8080/"
        },
        "id": "g6FEMKGwtWSG",
        "outputId": "5f639980-e334-47e0-81f3-e18706138ecb"
      },
      "execution_count": null,
      "outputs": [
        {
          "output_type": "stream",
          "name": "stdout",
          "text": [
            "[I, n, t, e, r, n, e, t,  , s, e, c, u, r, i, t, y,  , i, s,  , t, h, e,  , c, o, l, l, e, c, t, i, o, n,  , o, f,  , p, r, a, c, t, i, c, e, s, ,,  , t, e, c, h, n, o, l, o, g, i, e, s, ,,  , a, n, d,  , c, o, n, c, e, p, t, s,  , t, h, a, t,  , s, h, i, e, l, d,  , a, n, y,  , I, n, t, e, r, n, e, t, -, c, o, n, n, e, c, t, e, d,  , s, o, f, t, w, a, r, e,  , o, r,  , h, a, r, d, w, a, r, e,  , w, e,  , u, s, e,  , f, r, o, m,  , o, n, l, i, n, e,  , t, h, r, e, a, t, s, .,  ,  , T, h, e,  , n, u, m, b, e, r,  , o, f,  , d, e, v, i, c, e, s,  , w, e,  , u, s, e,  , a, t,  , h, o, m, e,  , o, r,  , w, o, r, k,  , t, h, a, t,  , c, a, n,  , c, o, n, n, e, c, t,  , t, o,  , a,  , n, e, t, w, o, r, k,  , i, s,  , i, n, c, r, e, a, s, i, n, g,  , r, a, p, i, d, l, y, .,  , I, n,  , a, d, d, i, t, i, o, n,  , t, o,  , o, u, r,  , l, a, p, t, o, p, s, ,,  , d, e, s, k, t, o, p, s, ,,  , s, e, r, v, e, r, s, ,,  , r, o, u, t, e, r, s, ,,  , m, o, d, e, m, s, ,,  , s, m, a, r, t, p, h, o, n, e, s, ,,  , a, n, d,  , t, a, b, l, e, t, s, ,,  , o, u, r,  , w, a, t, c, h, e, s, ,,  , a, p, p, l, i, a, n, c, e, s, ,,  , t, h, e, r, m, o, s, t, a, t, s, ,,  , d, o, o, r, b, e, l, l,  , c, a, m, e, r, a, s, ,,  , a, n, d,  , a, p, p, l, i, a, n, c, e, s,  , a, r, e,  , a, l, s, o,  , I, n, t, e, r, n, e, t, -, c, o, n, n, e, c, t, e, d,  , d, e, v, i, c, e, s, ., I, n, t, e, r, n, e, t,  , c, o, n, n, e, c, t, i, v, i, t, y,  , a, l, l, o, w, s,  , o, u, r,  , t, e, c, h, n, o, l, o, g, y,  , t, o,  , b, e,  , m, o, r, e,  , u, s, e, f, u, l,  , a, n, d,  , c, o, n, v, e, n, i, e, n, t, ,,  , a, n, d,  , m, u, c, h,  , s, m, a, r, t, e, r, .,  , H, o, w, e, v, e, r, ,,  , o, p, e, n, i, n, g,  , u, p,  , t, h, e,  , d, e, v, i, c, e, s,  , a, n, d,  , s, o, f, t, w, a, r, e,  , w, e,  , r, e, l, y,  , o, n,  , t, o,  , t, h, e,  , d, a, t, a,  , s, u, p, e, r, h, i, g, h, w, a, y,  , a, l, s, o,  , l, e, a, v, e, s,  , t, h, e, m,  , v, u, l, n, e, r, a, b, l, e,  , t, o,  , h, a, c, k, e, r, s, ,,  , m, a, l, w, a, r, e, ,,  , e, x, p, l, o, i, t, s, ,,  , b, o, t, s, ,,  , s, p, a, m, ,,  , m, a, l, i, c, i, o, u, s,  , l, i, n, k, s,  , a, n, d,  , w, e, b, s, i, t, e, s, .,  , I, n, t, e, r, n, e, t, -, c, o, n, n, e, c, t, e, d,  , t, e, c, h, n, o, l, o, g, y,  , i, s,  , a, l, s, o,  , m, o, r, e,  , s, u, s, c, e, p, t, i, b, l, e,  , t, o,  , s, o, c, i, a, l,  , e, n, g, i, n, e, e, r, i, n, g,  , a, t, t, a, c, k, s,  , l, i, k, e,  , p, h, i, s, h, i, n, g, .,  , A, n, d,  , s, o, p, h, i, s, t, i, c, a, t, e, d,  , t, h, r, e, a, t,  , a, c, t, o, r, s,  , c, a, n,  , u, s, e,  , d, e, v, i, c, e, s,  , i, n,  , a,  , n, e, t, w, o, r, k,  , f, o, r,  , l, a, t, e, r, a, l,  , m, o, v, e, m, e, n, t, s, ,,  , d, a, t, a,  , e, x, f, i, l, t, r, a, t, i, o, n, ,,  , o, r,  , t, o,  , d, r, o, p,  , r, a, n, s, o, m, w, a, r, e, ., W, i, t, h,  , t, h, e,  , i, n, c, r, e, a, s, i, n, g,  , u, s, e,  , o, f,  , t, h, e,  , I, n, t, e, r, n, e, t, ,,  , c, y, b, e, r, c, r, i, m, i, n, a, l, s,  , h, a, v, e,  , m, o, r, e,  , o, p, p, o, r, t, u, n, i, t, i, e, s,  , t, o,  , a, c, c, e, s, s,  , s, e, n, s, i, t, i, v, e,  , d, a, t, a,  , a, n, d,  , c, a, u, s, e,  , f, i, n, a, n, c, i, a, l,  , l, o, s, s, e, s, .,  , I, n, t, e, r, n, e, t,  , s, e, c, u, r, i, t, y,  , i, s,  , e, s, s, e, n, t, i, a, l,  , t, o,  , p, r, o, t, e, c, t,  , b, u, s, i, n, e, s, s, e, s, ,,  , i, n, d, i, v, i, d, u, a, l, s, ,,  , a, n, d,  , g, o, v, e, r, n, m, e, n, t, s,  , f, r, o, m,  , m, a, l, i, c, i, o, u, s,  , a, t, t, a, c, k, s,  , s, u, c, h,  , a, s,  , h, a, c, k, i, n, g, ,,  , m, a, l, w, a, r, e, ,,  , r, a, n, s, o, m, w, a, r, e, ,,  , a, n, d,  , i, d, e, n, t, i, t, y,  , t, h, e, f, t, .,  , I, t,  , a, l, s, o,  , h, e, l, p, s,  , p, r, o, t, e, c, t,  , f, i, n, a, n, c, i, a, l,  , t, r, a, n, s, a, c, t, i, o, n, s,  , a, n, d,  , o, t, h, e, r,  , s, e, n, s, i, t, i, v, e,  , i, n, f, o, r, m, a, t, i, o, n,  , f, r, o, m,  , b, e, i, n, g,  , s, t, o, l, e, n,  , o, r,  , m, i, s, u, s, e, d, .,  , I, n, t, e, r, n, e, t,  , s, e, c, u, r, i, t, y,  , m, e, a, s, u, r, e, s,  , c, a, n,  , h, e, l, p,  , p, r, e, v, e, n, t,  , d, a, t, a,  , b, r, e, a, c, h, e, s,  , t, h, a, t,  , c, a, n,  , l, e, a, d,  , t, o,  , c, o, s, t, l, y,  , d, a, m, a, g, e, s,  , f, o, r,  , o, r, g, a, n, i, z, a, t, i, o, n, s,  , a, n, d,  , i, n, d, i, v, i, d, u, a, l, s,  , a, l, i, k, e, ., ., .]\n",
            "I\n"
          ]
        }
      ]
    },
    {
      "cell_type": "code",
      "source": [
        "# Document Representation before applying lemmatization\n",
        "print(\"Before: \", prc_docs)\n",
        "\n",
        "\n",
        "token_docs = [ [tok.lemma_.lower().strip() for tok in prc_doc] for prc_doc in prc_docs]\n",
        "\n",
        "print(\"\\nAfter: \", token_docs)"
      ],
      "metadata": {
        "colab": {
          "base_uri": "https://localhost:8080/"
        },
        "id": "C-DjC2P9tWUU",
        "outputId": "f7400f35-2585-42cf-8bd5-4f5654807fb9"
      },
      "execution_count": null,
      "outputs": [
        {
          "output_type": "stream",
          "name": "stdout",
          "text": [
            "Before:  [I, n, t, e, r, n, e, t,  , s, e, c, u, r, i, t, y,  , i, s,  , t, h, e,  , c, o, l, l, e, c, t, i, o, n,  , o, f,  , p, r, a, c, t, i, c, e, s, ,,  , t, e, c, h, n, o, l, o, g, i, e, s, ,,  , a, n, d,  , c, o, n, c, e, p, t, s,  , t, h, a, t,  , s, h, i, e, l, d,  , a, n, y,  , I, n, t, e, r, n, e, t, -, c, o, n, n, e, c, t, e, d,  , s, o, f, t, w, a, r, e,  , o, r,  , h, a, r, d, w, a, r, e,  , w, e,  , u, s, e,  , f, r, o, m,  , o, n, l, i, n, e,  , t, h, r, e, a, t, s, .,  ,  , T, h, e,  , n, u, m, b, e, r,  , o, f,  , d, e, v, i, c, e, s,  , w, e,  , u, s, e,  , a, t,  , h, o, m, e,  , o, r,  , w, o, r, k,  , t, h, a, t,  , c, a, n,  , c, o, n, n, e, c, t,  , t, o,  , a,  , n, e, t, w, o, r, k,  , i, s,  , i, n, c, r, e, a, s, i, n, g,  , r, a, p, i, d, l, y, .,  , I, n,  , a, d, d, i, t, i, o, n,  , t, o,  , o, u, r,  , l, a, p, t, o, p, s, ,,  , d, e, s, k, t, o, p, s, ,,  , s, e, r, v, e, r, s, ,,  , r, o, u, t, e, r, s, ,,  , m, o, d, e, m, s, ,,  , s, m, a, r, t, p, h, o, n, e, s, ,,  , a, n, d,  , t, a, b, l, e, t, s, ,,  , o, u, r,  , w, a, t, c, h, e, s, ,,  , a, p, p, l, i, a, n, c, e, s, ,,  , t, h, e, r, m, o, s, t, a, t, s, ,,  , d, o, o, r, b, e, l, l,  , c, a, m, e, r, a, s, ,,  , a, n, d,  , a, p, p, l, i, a, n, c, e, s,  , a, r, e,  , a, l, s, o,  , I, n, t, e, r, n, e, t, -, c, o, n, n, e, c, t, e, d,  , d, e, v, i, c, e, s, ., I, n, t, e, r, n, e, t,  , c, o, n, n, e, c, t, i, v, i, t, y,  , a, l, l, o, w, s,  , o, u, r,  , t, e, c, h, n, o, l, o, g, y,  , t, o,  , b, e,  , m, o, r, e,  , u, s, e, f, u, l,  , a, n, d,  , c, o, n, v, e, n, i, e, n, t, ,,  , a, n, d,  , m, u, c, h,  , s, m, a, r, t, e, r, .,  , H, o, w, e, v, e, r, ,,  , o, p, e, n, i, n, g,  , u, p,  , t, h, e,  , d, e, v, i, c, e, s,  , a, n, d,  , s, o, f, t, w, a, r, e,  , w, e,  , r, e, l, y,  , o, n,  , t, o,  , t, h, e,  , d, a, t, a,  , s, u, p, e, r, h, i, g, h, w, a, y,  , a, l, s, o,  , l, e, a, v, e, s,  , t, h, e, m,  , v, u, l, n, e, r, a, b, l, e,  , t, o,  , h, a, c, k, e, r, s, ,,  , m, a, l, w, a, r, e, ,,  , e, x, p, l, o, i, t, s, ,,  , b, o, t, s, ,,  , s, p, a, m, ,,  , m, a, l, i, c, i, o, u, s,  , l, i, n, k, s,  , a, n, d,  , w, e, b, s, i, t, e, s, .,  , I, n, t, e, r, n, e, t, -, c, o, n, n, e, c, t, e, d,  , t, e, c, h, n, o, l, o, g, y,  , i, s,  , a, l, s, o,  , m, o, r, e,  , s, u, s, c, e, p, t, i, b, l, e,  , t, o,  , s, o, c, i, a, l,  , e, n, g, i, n, e, e, r, i, n, g,  , a, t, t, a, c, k, s,  , l, i, k, e,  , p, h, i, s, h, i, n, g, .,  , A, n, d,  , s, o, p, h, i, s, t, i, c, a, t, e, d,  , t, h, r, e, a, t,  , a, c, t, o, r, s,  , c, a, n,  , u, s, e,  , d, e, v, i, c, e, s,  , i, n,  , a,  , n, e, t, w, o, r, k,  , f, o, r,  , l, a, t, e, r, a, l,  , m, o, v, e, m, e, n, t, s, ,,  , d, a, t, a,  , e, x, f, i, l, t, r, a, t, i, o, n, ,,  , o, r,  , t, o,  , d, r, o, p,  , r, a, n, s, o, m, w, a, r, e, ., W, i, t, h,  , t, h, e,  , i, n, c, r, e, a, s, i, n, g,  , u, s, e,  , o, f,  , t, h, e,  , I, n, t, e, r, n, e, t, ,,  , c, y, b, e, r, c, r, i, m, i, n, a, l, s,  , h, a, v, e,  , m, o, r, e,  , o, p, p, o, r, t, u, n, i, t, i, e, s,  , t, o,  , a, c, c, e, s, s,  , s, e, n, s, i, t, i, v, e,  , d, a, t, a,  , a, n, d,  , c, a, u, s, e,  , f, i, n, a, n, c, i, a, l,  , l, o, s, s, e, s, .,  , I, n, t, e, r, n, e, t,  , s, e, c, u, r, i, t, y,  , i, s,  , e, s, s, e, n, t, i, a, l,  , t, o,  , p, r, o, t, e, c, t,  , b, u, s, i, n, e, s, s, e, s, ,,  , i, n, d, i, v, i, d, u, a, l, s, ,,  , a, n, d,  , g, o, v, e, r, n, m, e, n, t, s,  , f, r, o, m,  , m, a, l, i, c, i, o, u, s,  , a, t, t, a, c, k, s,  , s, u, c, h,  , a, s,  , h, a, c, k, i, n, g, ,,  , m, a, l, w, a, r, e, ,,  , r, a, n, s, o, m, w, a, r, e, ,,  , a, n, d,  , i, d, e, n, t, i, t, y,  , t, h, e, f, t, .,  , I, t,  , a, l, s, o,  , h, e, l, p, s,  , p, r, o, t, e, c, t,  , f, i, n, a, n, c, i, a, l,  , t, r, a, n, s, a, c, t, i, o, n, s,  , a, n, d,  , o, t, h, e, r,  , s, e, n, s, i, t, i, v, e,  , i, n, f, o, r, m, a, t, i, o, n,  , f, r, o, m,  , b, e, i, n, g,  , s, t, o, l, e, n,  , o, r,  , m, i, s, u, s, e, d, .,  , I, n, t, e, r, n, e, t,  , s, e, c, u, r, i, t, y,  , m, e, a, s, u, r, e, s,  , c, a, n,  , h, e, l, p,  , p, r, e, v, e, n, t,  , d, a, t, a,  , b, r, e, a, c, h, e, s,  , t, h, a, t,  , c, a, n,  , l, e, a, d,  , t, o,  , c, o, s, t, l, y,  , d, a, m, a, g, e, s,  , f, o, r,  , o, r, g, a, n, i, z, a, t, i, o, n, s,  , a, n, d,  , i, n, d, i, v, i, d, u, a, l, s,  , a, l, i, k, e, ., ., .]\n",
            "\n",
            "After:  [['i'], ['n'], ['t'], ['e'], ['r'], ['n'], ['e'], ['t'], [''], ['s'], ['e'], ['c'], ['u'], ['r'], ['i'], ['t'], ['y'], [''], ['i'], ['s'], [''], ['t'], ['h'], ['e'], [''], ['c'], ['o'], ['l'], ['l'], ['e'], ['c'], ['t'], ['i'], ['o'], ['n'], [''], ['o'], ['f'], [''], ['p'], ['r'], ['a'], ['c'], ['t'], ['i'], ['c'], ['e'], ['s'], [','], [''], ['t'], ['e'], ['c'], ['h'], ['n'], ['o'], ['l'], ['o'], ['g'], ['i'], ['e'], ['s'], [','], [''], ['a'], ['n'], ['d'], [''], ['c'], ['o'], ['n'], ['c'], ['e'], ['p'], ['t'], ['s'], [''], ['t'], ['h'], ['a'], ['t'], [''], ['s'], ['h'], ['i'], ['e'], ['l'], ['d'], [''], ['a'], ['n'], ['y'], [''], ['i'], ['n'], ['t'], ['e'], ['r'], ['n'], ['e'], ['t'], ['-'], ['c'], ['o'], ['n'], ['n'], ['e'], ['c'], ['t'], ['e'], ['d'], [''], ['s'], ['o'], ['f'], ['t'], ['w'], ['a'], ['r'], ['e'], [''], ['o'], ['r'], [''], ['h'], ['a'], ['r'], ['d'], ['w'], ['a'], ['r'], ['e'], [''], ['w'], ['e'], [''], ['u'], ['s'], ['e'], [''], ['f'], ['r'], ['o'], ['m'], [''], ['o'], ['n'], ['l'], ['i'], ['n'], ['e'], [''], ['t'], ['h'], ['r'], ['e'], ['a'], ['t'], ['s'], ['.'], [''], [''], ['t'], ['h'], ['e'], [''], ['n'], ['u'], ['m'], ['b'], ['e'], ['r'], [''], ['o'], ['f'], [''], ['d'], ['e'], ['v'], ['i'], ['c'], ['e'], ['s'], [''], ['w'], ['e'], [''], ['u'], ['s'], ['e'], [''], ['a'], ['t'], [''], ['h'], ['o'], ['m'], ['e'], [''], ['o'], ['r'], [''], ['w'], ['o'], ['r'], ['k'], [''], ['t'], ['h'], ['a'], ['t'], [''], ['c'], ['a'], ['n'], [''], ['c'], ['o'], ['n'], ['n'], ['e'], ['c'], ['t'], [''], ['t'], ['o'], [''], ['a'], [''], ['n'], ['e'], ['t'], ['w'], ['o'], ['r'], ['k'], [''], ['i'], ['s'], [''], ['i'], ['n'], ['c'], ['r'], ['e'], ['a'], ['s'], ['i'], ['n'], ['g'], [''], ['r'], ['a'], ['p'], ['i'], ['d'], ['l'], ['y'], ['.'], [''], ['i'], ['n'], [''], ['a'], ['d'], ['d'], ['i'], ['t'], ['i'], ['o'], ['n'], [''], ['t'], ['o'], [''], ['o'], ['u'], ['r'], [''], ['l'], ['a'], ['p'], ['t'], ['o'], ['p'], ['s'], [','], [''], ['d'], ['e'], ['s'], ['k'], ['t'], ['o'], ['p'], ['s'], [','], [''], ['s'], ['e'], ['r'], ['v'], ['e'], ['r'], ['s'], [','], [''], ['r'], ['o'], ['u'], ['t'], ['e'], ['r'], ['s'], [','], [''], ['m'], ['o'], ['d'], ['e'], ['m'], ['s'], [','], [''], ['s'], ['m'], ['a'], ['r'], ['t'], ['p'], ['h'], ['o'], ['n'], ['e'], ['s'], [','], [''], ['a'], ['n'], ['d'], [''], ['t'], ['a'], ['b'], ['l'], ['e'], ['t'], ['s'], [','], [''], ['o'], ['u'], ['r'], [''], ['w'], ['a'], ['t'], ['c'], ['h'], ['e'], ['s'], [','], [''], ['a'], ['p'], ['p'], ['l'], ['i'], ['a'], ['n'], ['c'], ['e'], ['s'], [','], [''], ['t'], ['h'], ['e'], ['r'], ['m'], ['o'], ['s'], ['t'], ['a'], ['t'], ['s'], [','], [''], ['d'], ['o'], ['o'], ['r'], ['b'], ['e'], ['l'], ['l'], [''], ['c'], ['a'], ['m'], ['e'], ['r'], ['a'], ['s'], [','], [''], ['a'], ['n'], ['d'], [''], ['a'], ['p'], ['p'], ['l'], ['i'], ['a'], ['n'], ['c'], ['e'], ['s'], [''], ['a'], ['r'], ['e'], [''], ['a'], ['l'], ['s'], ['o'], [''], ['i'], ['n'], ['t'], ['e'], ['r'], ['n'], ['e'], ['t'], ['-'], ['c'], ['o'], ['n'], ['n'], ['e'], ['c'], ['t'], ['e'], ['d'], [''], ['d'], ['e'], ['v'], ['i'], ['c'], ['e'], ['s'], ['.'], ['i'], ['n'], ['t'], ['e'], ['r'], ['n'], ['e'], ['t'], [''], ['c'], ['o'], ['n'], ['n'], ['e'], ['c'], ['t'], ['i'], ['v'], ['i'], ['t'], ['y'], [''], ['a'], ['l'], ['l'], ['o'], ['w'], ['s'], [''], ['o'], ['u'], ['r'], [''], ['t'], ['e'], ['c'], ['h'], ['n'], ['o'], ['l'], ['o'], ['g'], ['y'], [''], ['t'], ['o'], [''], ['b'], ['e'], [''], ['m'], ['o'], ['r'], ['e'], [''], ['u'], ['s'], ['e'], ['f'], ['u'], ['l'], [''], ['a'], ['n'], ['d'], [''], ['c'], ['o'], ['n'], ['v'], ['e'], ['n'], ['i'], ['e'], ['n'], ['t'], [','], [''], ['a'], ['n'], ['d'], [''], ['m'], ['u'], ['c'], ['h'], [''], ['s'], ['m'], ['a'], ['r'], ['t'], ['e'], ['r'], ['.'], [''], ['h'], ['o'], ['w'], ['e'], ['v'], ['e'], ['r'], [','], [''], ['o'], ['p'], ['e'], ['n'], ['i'], ['n'], ['g'], [''], ['u'], ['p'], [''], ['t'], ['h'], ['e'], [''], ['d'], ['e'], ['v'], ['i'], ['c'], ['e'], ['s'], [''], ['a'], ['n'], ['d'], [''], ['s'], ['o'], ['f'], ['t'], ['w'], ['a'], ['r'], ['e'], [''], ['w'], ['e'], [''], ['r'], ['e'], ['l'], ['y'], [''], ['o'], ['n'], [''], ['t'], ['o'], [''], ['t'], ['h'], ['e'], [''], ['d'], ['a'], ['t'], ['a'], [''], ['s'], ['u'], ['p'], ['e'], ['r'], ['h'], ['i'], ['g'], ['h'], ['w'], ['a'], ['y'], [''], ['a'], ['l'], ['s'], ['o'], [''], ['l'], ['e'], ['a'], ['v'], ['e'], ['s'], [''], ['t'], ['h'], ['e'], ['m'], [''], ['v'], ['u'], ['l'], ['n'], ['e'], ['r'], ['a'], ['b'], ['l'], ['e'], [''], ['t'], ['o'], [''], ['h'], ['a'], ['c'], ['k'], ['e'], ['r'], ['s'], [','], [''], ['m'], ['a'], ['l'], ['w'], ['a'], ['r'], ['e'], [','], [''], ['e'], ['x'], ['p'], ['l'], ['o'], ['i'], ['t'], ['s'], [','], [''], ['b'], ['o'], ['t'], ['s'], [','], [''], ['s'], ['p'], ['a'], ['m'], [','], [''], ['m'], ['a'], ['l'], ['i'], ['c'], ['i'], ['o'], ['u'], ['s'], [''], ['l'], ['i'], ['n'], ['k'], ['s'], [''], ['a'], ['n'], ['d'], [''], ['w'], ['e'], ['b'], ['s'], ['i'], ['t'], ['e'], ['s'], ['.'], [''], ['i'], ['n'], ['t'], ['e'], ['r'], ['n'], ['e'], ['t'], ['-'], ['c'], ['o'], ['n'], ['n'], ['e'], ['c'], ['t'], ['e'], ['d'], [''], ['t'], ['e'], ['c'], ['h'], ['n'], ['o'], ['l'], ['o'], ['g'], ['y'], [''], ['i'], ['s'], [''], ['a'], ['l'], ['s'], ['o'], [''], ['m'], ['o'], ['r'], ['e'], [''], ['s'], ['u'], ['s'], ['c'], ['e'], ['p'], ['t'], ['i'], ['b'], ['l'], ['e'], [''], ['t'], ['o'], [''], ['s'], ['o'], ['c'], ['i'], ['a'], ['l'], [''], ['e'], ['n'], ['g'], ['i'], ['n'], ['e'], ['e'], ['r'], ['i'], ['n'], ['g'], [''], ['a'], ['t'], ['t'], ['a'], ['c'], ['k'], ['s'], [''], ['l'], ['i'], ['k'], ['e'], [''], ['p'], ['h'], ['i'], ['s'], ['h'], ['i'], ['n'], ['g'], ['.'], [''], ['a'], ['n'], ['d'], [''], ['s'], ['o'], ['p'], ['h'], ['i'], ['s'], ['t'], ['i'], ['c'], ['a'], ['t'], ['e'], ['d'], [''], ['t'], ['h'], ['r'], ['e'], ['a'], ['t'], [''], ['a'], ['c'], ['t'], ['o'], ['r'], ['s'], [''], ['c'], ['a'], ['n'], [''], ['u'], ['s'], ['e'], [''], ['d'], ['e'], ['v'], ['i'], ['c'], ['e'], ['s'], [''], ['i'], ['n'], [''], ['a'], [''], ['n'], ['e'], ['t'], ['w'], ['o'], ['r'], ['k'], [''], ['f'], ['o'], ['r'], [''], ['l'], ['a'], ['t'], ['e'], ['r'], ['a'], ['l'], [''], ['m'], ['o'], ['v'], ['e'], ['m'], ['e'], ['n'], ['t'], ['s'], [','], [''], ['d'], ['a'], ['t'], ['a'], [''], ['e'], ['x'], ['f'], ['i'], ['l'], ['t'], ['r'], ['a'], ['t'], ['i'], ['o'], ['n'], [','], [''], ['o'], ['r'], [''], ['t'], ['o'], [''], ['d'], ['r'], ['o'], ['p'], [''], ['r'], ['a'], ['n'], ['s'], ['o'], ['m'], ['w'], ['a'], ['r'], ['e'], ['.'], ['w'], ['i'], ['t'], ['h'], [''], ['t'], ['h'], ['e'], [''], ['i'], ['n'], ['c'], ['r'], ['e'], ['a'], ['s'], ['i'], ['n'], ['g'], [''], ['u'], ['s'], ['e'], [''], ['o'], ['f'], [''], ['t'], ['h'], ['e'], [''], ['i'], ['n'], ['t'], ['e'], ['r'], ['n'], ['e'], ['t'], [','], [''], ['c'], ['y'], ['b'], ['e'], ['r'], ['c'], ['r'], ['i'], ['m'], ['i'], ['n'], ['a'], ['l'], ['s'], [''], ['h'], ['a'], ['v'], ['e'], [''], ['m'], ['o'], ['r'], ['e'], [''], ['o'], ['p'], ['p'], ['o'], ['r'], ['t'], ['u'], ['n'], ['i'], ['t'], ['i'], ['e'], ['s'], [''], ['t'], ['o'], [''], ['a'], ['c'], ['c'], ['e'], ['s'], ['s'], [''], ['s'], ['e'], ['n'], ['s'], ['i'], ['t'], ['i'], ['v'], ['e'], [''], ['d'], ['a'], ['t'], ['a'], [''], ['a'], ['n'], ['d'], [''], ['c'], ['a'], ['u'], ['s'], ['e'], [''], ['f'], ['i'], ['n'], ['a'], ['n'], ['c'], ['i'], ['a'], ['l'], [''], ['l'], ['o'], ['s'], ['s'], ['e'], ['s'], ['.'], [''], ['i'], ['n'], ['t'], ['e'], ['r'], ['n'], ['e'], ['t'], [''], ['s'], ['e'], ['c'], ['u'], ['r'], ['i'], ['t'], ['y'], [''], ['i'], ['s'], [''], ['e'], ['s'], ['s'], ['e'], ['n'], ['t'], ['i'], ['a'], ['l'], [''], ['t'], ['o'], [''], ['p'], ['r'], ['o'], ['t'], ['e'], ['c'], ['t'], [''], ['b'], ['u'], ['s'], ['i'], ['n'], ['e'], ['s'], ['s'], ['e'], ['s'], [','], [''], ['i'], ['n'], ['d'], ['i'], ['v'], ['i'], ['d'], ['u'], ['a'], ['l'], ['s'], [','], [''], ['a'], ['n'], ['d'], [''], ['g'], ['o'], ['v'], ['e'], ['r'], ['n'], ['m'], ['e'], ['n'], ['t'], ['s'], [''], ['f'], ['r'], ['o'], ['m'], [''], ['m'], ['a'], ['l'], ['i'], ['c'], ['i'], ['o'], ['u'], ['s'], [''], ['a'], ['t'], ['t'], ['a'], ['c'], ['k'], ['s'], [''], ['s'], ['u'], ['c'], ['h'], [''], ['a'], ['s'], [''], ['h'], ['a'], ['c'], ['k'], ['i'], ['n'], ['g'], [','], [''], ['m'], ['a'], ['l'], ['w'], ['a'], ['r'], ['e'], [','], [''], ['r'], ['a'], ['n'], ['s'], ['o'], ['m'], ['w'], ['a'], ['r'], ['e'], [','], [''], ['a'], ['n'], ['d'], [''], ['i'], ['d'], ['e'], ['n'], ['t'], ['i'], ['t'], ['y'], [''], ['t'], ['h'], ['e'], ['f'], ['t'], ['.'], [''], ['i'], ['t'], [''], ['a'], ['l'], ['s'], ['o'], [''], ['h'], ['e'], ['l'], ['p'], ['s'], [''], ['p'], ['r'], ['o'], ['t'], ['e'], ['c'], ['t'], [''], ['f'], ['i'], ['n'], ['a'], ['n'], ['c'], ['i'], ['a'], ['l'], [''], ['t'], ['r'], ['a'], ['n'], ['s'], ['a'], ['c'], ['t'], ['i'], ['o'], ['n'], ['s'], [''], ['a'], ['n'], ['d'], [''], ['o'], ['t'], ['h'], ['e'], ['r'], [''], ['s'], ['e'], ['n'], ['s'], ['i'], ['t'], ['i'], ['v'], ['e'], [''], ['i'], ['n'], ['f'], ['o'], ['r'], ['m'], ['a'], ['t'], ['i'], ['o'], ['n'], [''], ['f'], ['r'], ['o'], ['m'], [''], ['b'], ['e'], ['i'], ['n'], ['g'], [''], ['s'], ['t'], ['o'], ['l'], ['e'], ['n'], [''], ['o'], ['r'], [''], ['m'], ['i'], ['s'], ['u'], ['s'], ['e'], ['d'], ['.'], [''], ['i'], ['n'], ['t'], ['e'], ['r'], ['n'], ['e'], ['t'], [''], ['s'], ['e'], ['c'], ['u'], ['r'], ['i'], ['t'], ['y'], [''], ['m'], ['e'], ['a'], ['s'], ['u'], ['r'], ['e'], ['s'], [''], ['c'], ['a'], ['n'], [''], ['h'], ['e'], ['l'], ['p'], [''], ['p'], ['r'], ['e'], ['v'], ['e'], ['n'], ['t'], [''], ['d'], ['a'], ['t'], ['a'], [''], ['b'], ['r'], ['e'], ['a'], ['c'], ['h'], ['e'], ['s'], [''], ['t'], ['h'], ['a'], ['t'], [''], ['c'], ['a'], ['n'], [''], ['l'], ['e'], ['a'], ['d'], [''], ['t'], ['o'], [''], ['c'], ['o'], ['s'], ['t'], ['l'], ['y'], [''], ['d'], ['a'], ['m'], ['a'], ['g'], ['e'], ['s'], [''], ['f'], ['o'], ['r'], [''], ['o'], ['r'], ['g'], ['a'], ['n'], ['i'], ['z'], ['a'], ['t'], ['i'], ['o'], ['n'], ['s'], [''], ['a'], ['n'], ['d'], [''], ['i'], ['n'], ['d'], ['i'], ['v'], ['i'], ['d'], ['u'], ['a'], ['l'], ['s'], [''], ['a'], ['l'], ['i'], ['k'], ['e'], ['.'], ['.'], ['.']]\n"
          ]
        }
      ]
    },
    {
      "cell_type": "code",
      "source": [
        "print(\"Before: \", token_docs)\n",
        "\n",
        "token_docs = [ [tok for tok in token_doc if (tok not in stop_words and tok not in punctuations)] for token_doc in token_docs]\n",
        "print(\"\\nAfter: \",token_docs)"
      ],
      "metadata": {
        "colab": {
          "base_uri": "https://localhost:8080/"
        },
        "id": "5pdV3b1AtBBs",
        "outputId": "8011f5bf-45a1-40d2-b2a5-61ca6d7a22eb"
      },
      "execution_count": null,
      "outputs": [
        {
          "output_type": "stream",
          "name": "stdout",
          "text": [
            "Before:  [['i'], ['n'], ['t'], ['e'], ['r'], ['n'], ['e'], ['t'], [''], ['s'], ['e'], ['c'], ['u'], ['r'], ['i'], ['t'], ['y'], [''], ['i'], ['s'], [''], ['t'], ['h'], ['e'], [''], ['c'], ['o'], ['l'], ['l'], ['e'], ['c'], ['t'], ['i'], ['o'], ['n'], [''], ['o'], ['f'], [''], ['p'], ['r'], ['a'], ['c'], ['t'], ['i'], ['c'], ['e'], ['s'], [','], [''], ['t'], ['e'], ['c'], ['h'], ['n'], ['o'], ['l'], ['o'], ['g'], ['i'], ['e'], ['s'], [','], [''], ['a'], ['n'], ['d'], [''], ['c'], ['o'], ['n'], ['c'], ['e'], ['p'], ['t'], ['s'], [''], ['t'], ['h'], ['a'], ['t'], [''], ['s'], ['h'], ['i'], ['e'], ['l'], ['d'], [''], ['a'], ['n'], ['y'], [''], ['i'], ['n'], ['t'], ['e'], ['r'], ['n'], ['e'], ['t'], ['-'], ['c'], ['o'], ['n'], ['n'], ['e'], ['c'], ['t'], ['e'], ['d'], [''], ['s'], ['o'], ['f'], ['t'], ['w'], ['a'], ['r'], ['e'], [''], ['o'], ['r'], [''], ['h'], ['a'], ['r'], ['d'], ['w'], ['a'], ['r'], ['e'], [''], ['w'], ['e'], [''], ['u'], ['s'], ['e'], [''], ['f'], ['r'], ['o'], ['m'], [''], ['o'], ['n'], ['l'], ['i'], ['n'], ['e'], [''], ['t'], ['h'], ['r'], ['e'], ['a'], ['t'], ['s'], ['.'], [''], [''], ['t'], ['h'], ['e'], [''], ['n'], ['u'], ['m'], ['b'], ['e'], ['r'], [''], ['o'], ['f'], [''], ['d'], ['e'], ['v'], ['i'], ['c'], ['e'], ['s'], [''], ['w'], ['e'], [''], ['u'], ['s'], ['e'], [''], ['a'], ['t'], [''], ['h'], ['o'], ['m'], ['e'], [''], ['o'], ['r'], [''], ['w'], ['o'], ['r'], ['k'], [''], ['t'], ['h'], ['a'], ['t'], [''], ['c'], ['a'], ['n'], [''], ['c'], ['o'], ['n'], ['n'], ['e'], ['c'], ['t'], [''], ['t'], ['o'], [''], ['a'], [''], ['n'], ['e'], ['t'], ['w'], ['o'], ['r'], ['k'], [''], ['i'], ['s'], [''], ['i'], ['n'], ['c'], ['r'], ['e'], ['a'], ['s'], ['i'], ['n'], ['g'], [''], ['r'], ['a'], ['p'], ['i'], ['d'], ['l'], ['y'], ['.'], [''], ['i'], ['n'], [''], ['a'], ['d'], ['d'], ['i'], ['t'], ['i'], ['o'], ['n'], [''], ['t'], ['o'], [''], ['o'], ['u'], ['r'], [''], ['l'], ['a'], ['p'], ['t'], ['o'], ['p'], ['s'], [','], [''], ['d'], ['e'], ['s'], ['k'], ['t'], ['o'], ['p'], ['s'], [','], [''], ['s'], ['e'], ['r'], ['v'], ['e'], ['r'], ['s'], [','], [''], ['r'], ['o'], ['u'], ['t'], ['e'], ['r'], ['s'], [','], [''], ['m'], ['o'], ['d'], ['e'], ['m'], ['s'], [','], [''], ['s'], ['m'], ['a'], ['r'], ['t'], ['p'], ['h'], ['o'], ['n'], ['e'], ['s'], [','], [''], ['a'], ['n'], ['d'], [''], ['t'], ['a'], ['b'], ['l'], ['e'], ['t'], ['s'], [','], [''], ['o'], ['u'], ['r'], [''], ['w'], ['a'], ['t'], ['c'], ['h'], ['e'], ['s'], [','], [''], ['a'], ['p'], ['p'], ['l'], ['i'], ['a'], ['n'], ['c'], ['e'], ['s'], [','], [''], ['t'], ['h'], ['e'], ['r'], ['m'], ['o'], ['s'], ['t'], ['a'], ['t'], ['s'], [','], [''], ['d'], ['o'], ['o'], ['r'], ['b'], ['e'], ['l'], ['l'], [''], ['c'], ['a'], ['m'], ['e'], ['r'], ['a'], ['s'], [','], [''], ['a'], ['n'], ['d'], [''], ['a'], ['p'], ['p'], ['l'], ['i'], ['a'], ['n'], ['c'], ['e'], ['s'], [''], ['a'], ['r'], ['e'], [''], ['a'], ['l'], ['s'], ['o'], [''], ['i'], ['n'], ['t'], ['e'], ['r'], ['n'], ['e'], ['t'], ['-'], ['c'], ['o'], ['n'], ['n'], ['e'], ['c'], ['t'], ['e'], ['d'], [''], ['d'], ['e'], ['v'], ['i'], ['c'], ['e'], ['s'], ['.'], ['i'], ['n'], ['t'], ['e'], ['r'], ['n'], ['e'], ['t'], [''], ['c'], ['o'], ['n'], ['n'], ['e'], ['c'], ['t'], ['i'], ['v'], ['i'], ['t'], ['y'], [''], ['a'], ['l'], ['l'], ['o'], ['w'], ['s'], [''], ['o'], ['u'], ['r'], [''], ['t'], ['e'], ['c'], ['h'], ['n'], ['o'], ['l'], ['o'], ['g'], ['y'], [''], ['t'], ['o'], [''], ['b'], ['e'], [''], ['m'], ['o'], ['r'], ['e'], [''], ['u'], ['s'], ['e'], ['f'], ['u'], ['l'], [''], ['a'], ['n'], ['d'], [''], ['c'], ['o'], ['n'], ['v'], ['e'], ['n'], ['i'], ['e'], ['n'], ['t'], [','], [''], ['a'], ['n'], ['d'], [''], ['m'], ['u'], ['c'], ['h'], [''], ['s'], ['m'], ['a'], ['r'], ['t'], ['e'], ['r'], ['.'], [''], ['h'], ['o'], ['w'], ['e'], ['v'], ['e'], ['r'], [','], [''], ['o'], ['p'], ['e'], ['n'], ['i'], ['n'], ['g'], [''], ['u'], ['p'], [''], ['t'], ['h'], ['e'], [''], ['d'], ['e'], ['v'], ['i'], ['c'], ['e'], ['s'], [''], ['a'], ['n'], ['d'], [''], ['s'], ['o'], ['f'], ['t'], ['w'], ['a'], ['r'], ['e'], [''], ['w'], ['e'], [''], ['r'], ['e'], ['l'], ['y'], [''], ['o'], ['n'], [''], ['t'], ['o'], [''], ['t'], ['h'], ['e'], [''], ['d'], ['a'], ['t'], ['a'], [''], ['s'], ['u'], ['p'], ['e'], ['r'], ['h'], ['i'], ['g'], ['h'], ['w'], ['a'], ['y'], [''], ['a'], ['l'], ['s'], ['o'], [''], ['l'], ['e'], ['a'], ['v'], ['e'], ['s'], [''], ['t'], ['h'], ['e'], ['m'], [''], ['v'], ['u'], ['l'], ['n'], ['e'], ['r'], ['a'], ['b'], ['l'], ['e'], [''], ['t'], ['o'], [''], ['h'], ['a'], ['c'], ['k'], ['e'], ['r'], ['s'], [','], [''], ['m'], ['a'], ['l'], ['w'], ['a'], ['r'], ['e'], [','], [''], ['e'], ['x'], ['p'], ['l'], ['o'], ['i'], ['t'], ['s'], [','], [''], ['b'], ['o'], ['t'], ['s'], [','], [''], ['s'], ['p'], ['a'], ['m'], [','], [''], ['m'], ['a'], ['l'], ['i'], ['c'], ['i'], ['o'], ['u'], ['s'], [''], ['l'], ['i'], ['n'], ['k'], ['s'], [''], ['a'], ['n'], ['d'], [''], ['w'], ['e'], ['b'], ['s'], ['i'], ['t'], ['e'], ['s'], ['.'], [''], ['i'], ['n'], ['t'], ['e'], ['r'], ['n'], ['e'], ['t'], ['-'], ['c'], ['o'], ['n'], ['n'], ['e'], ['c'], ['t'], ['e'], ['d'], [''], ['t'], ['e'], ['c'], ['h'], ['n'], ['o'], ['l'], ['o'], ['g'], ['y'], [''], ['i'], ['s'], [''], ['a'], ['l'], ['s'], ['o'], [''], ['m'], ['o'], ['r'], ['e'], [''], ['s'], ['u'], ['s'], ['c'], ['e'], ['p'], ['t'], ['i'], ['b'], ['l'], ['e'], [''], ['t'], ['o'], [''], ['s'], ['o'], ['c'], ['i'], ['a'], ['l'], [''], ['e'], ['n'], ['g'], ['i'], ['n'], ['e'], ['e'], ['r'], ['i'], ['n'], ['g'], [''], ['a'], ['t'], ['t'], ['a'], ['c'], ['k'], ['s'], [''], ['l'], ['i'], ['k'], ['e'], [''], ['p'], ['h'], ['i'], ['s'], ['h'], ['i'], ['n'], ['g'], ['.'], [''], ['a'], ['n'], ['d'], [''], ['s'], ['o'], ['p'], ['h'], ['i'], ['s'], ['t'], ['i'], ['c'], ['a'], ['t'], ['e'], ['d'], [''], ['t'], ['h'], ['r'], ['e'], ['a'], ['t'], [''], ['a'], ['c'], ['t'], ['o'], ['r'], ['s'], [''], ['c'], ['a'], ['n'], [''], ['u'], ['s'], ['e'], [''], ['d'], ['e'], ['v'], ['i'], ['c'], ['e'], ['s'], [''], ['i'], ['n'], [''], ['a'], [''], ['n'], ['e'], ['t'], ['w'], ['o'], ['r'], ['k'], [''], ['f'], ['o'], ['r'], [''], ['l'], ['a'], ['t'], ['e'], ['r'], ['a'], ['l'], [''], ['m'], ['o'], ['v'], ['e'], ['m'], ['e'], ['n'], ['t'], ['s'], [','], [''], ['d'], ['a'], ['t'], ['a'], [''], ['e'], ['x'], ['f'], ['i'], ['l'], ['t'], ['r'], ['a'], ['t'], ['i'], ['o'], ['n'], [','], [''], ['o'], ['r'], [''], ['t'], ['o'], [''], ['d'], ['r'], ['o'], ['p'], [''], ['r'], ['a'], ['n'], ['s'], ['o'], ['m'], ['w'], ['a'], ['r'], ['e'], ['.'], ['w'], ['i'], ['t'], ['h'], [''], ['t'], ['h'], ['e'], [''], ['i'], ['n'], ['c'], ['r'], ['e'], ['a'], ['s'], ['i'], ['n'], ['g'], [''], ['u'], ['s'], ['e'], [''], ['o'], ['f'], [''], ['t'], ['h'], ['e'], [''], ['i'], ['n'], ['t'], ['e'], ['r'], ['n'], ['e'], ['t'], [','], [''], ['c'], ['y'], ['b'], ['e'], ['r'], ['c'], ['r'], ['i'], ['m'], ['i'], ['n'], ['a'], ['l'], ['s'], [''], ['h'], ['a'], ['v'], ['e'], [''], ['m'], ['o'], ['r'], ['e'], [''], ['o'], ['p'], ['p'], ['o'], ['r'], ['t'], ['u'], ['n'], ['i'], ['t'], ['i'], ['e'], ['s'], [''], ['t'], ['o'], [''], ['a'], ['c'], ['c'], ['e'], ['s'], ['s'], [''], ['s'], ['e'], ['n'], ['s'], ['i'], ['t'], ['i'], ['v'], ['e'], [''], ['d'], ['a'], ['t'], ['a'], [''], ['a'], ['n'], ['d'], [''], ['c'], ['a'], ['u'], ['s'], ['e'], [''], ['f'], ['i'], ['n'], ['a'], ['n'], ['c'], ['i'], ['a'], ['l'], [''], ['l'], ['o'], ['s'], ['s'], ['e'], ['s'], ['.'], [''], ['i'], ['n'], ['t'], ['e'], ['r'], ['n'], ['e'], ['t'], [''], ['s'], ['e'], ['c'], ['u'], ['r'], ['i'], ['t'], ['y'], [''], ['i'], ['s'], [''], ['e'], ['s'], ['s'], ['e'], ['n'], ['t'], ['i'], ['a'], ['l'], [''], ['t'], ['o'], [''], ['p'], ['r'], ['o'], ['t'], ['e'], ['c'], ['t'], [''], ['b'], ['u'], ['s'], ['i'], ['n'], ['e'], ['s'], ['s'], ['e'], ['s'], [','], [''], ['i'], ['n'], ['d'], ['i'], ['v'], ['i'], ['d'], ['u'], ['a'], ['l'], ['s'], [','], [''], ['a'], ['n'], ['d'], [''], ['g'], ['o'], ['v'], ['e'], ['r'], ['n'], ['m'], ['e'], ['n'], ['t'], ['s'], [''], ['f'], ['r'], ['o'], ['m'], [''], ['m'], ['a'], ['l'], ['i'], ['c'], ['i'], ['o'], ['u'], ['s'], [''], ['a'], ['t'], ['t'], ['a'], ['c'], ['k'], ['s'], [''], ['s'], ['u'], ['c'], ['h'], [''], ['a'], ['s'], [''], ['h'], ['a'], ['c'], ['k'], ['i'], ['n'], ['g'], [','], [''], ['m'], ['a'], ['l'], ['w'], ['a'], ['r'], ['e'], [','], [''], ['r'], ['a'], ['n'], ['s'], ['o'], ['m'], ['w'], ['a'], ['r'], ['e'], [','], [''], ['a'], ['n'], ['d'], [''], ['i'], ['d'], ['e'], ['n'], ['t'], ['i'], ['t'], ['y'], [''], ['t'], ['h'], ['e'], ['f'], ['t'], ['.'], [''], ['i'], ['t'], [''], ['a'], ['l'], ['s'], ['o'], [''], ['h'], ['e'], ['l'], ['p'], ['s'], [''], ['p'], ['r'], ['o'], ['t'], ['e'], ['c'], ['t'], [''], ['f'], ['i'], ['n'], ['a'], ['n'], ['c'], ['i'], ['a'], ['l'], [''], ['t'], ['r'], ['a'], ['n'], ['s'], ['a'], ['c'], ['t'], ['i'], ['o'], ['n'], ['s'], [''], ['a'], ['n'], ['d'], [''], ['o'], ['t'], ['h'], ['e'], ['r'], [''], ['s'], ['e'], ['n'], ['s'], ['i'], ['t'], ['i'], ['v'], ['e'], [''], ['i'], ['n'], ['f'], ['o'], ['r'], ['m'], ['a'], ['t'], ['i'], ['o'], ['n'], [''], ['f'], ['r'], ['o'], ['m'], [''], ['b'], ['e'], ['i'], ['n'], ['g'], [''], ['s'], ['t'], ['o'], ['l'], ['e'], ['n'], [''], ['o'], ['r'], [''], ['m'], ['i'], ['s'], ['u'], ['s'], ['e'], ['d'], ['.'], [''], ['i'], ['n'], ['t'], ['e'], ['r'], ['n'], ['e'], ['t'], [''], ['s'], ['e'], ['c'], ['u'], ['r'], ['i'], ['t'], ['y'], [''], ['m'], ['e'], ['a'], ['s'], ['u'], ['r'], ['e'], ['s'], [''], ['c'], ['a'], ['n'], [''], ['h'], ['e'], ['l'], ['p'], [''], ['p'], ['r'], ['e'], ['v'], ['e'], ['n'], ['t'], [''], ['d'], ['a'], ['t'], ['a'], [''], ['b'], ['r'], ['e'], ['a'], ['c'], ['h'], ['e'], ['s'], [''], ['t'], ['h'], ['a'], ['t'], [''], ['c'], ['a'], ['n'], [''], ['l'], ['e'], ['a'], ['d'], [''], ['t'], ['o'], [''], ['c'], ['o'], ['s'], ['t'], ['l'], ['y'], [''], ['d'], ['a'], ['m'], ['a'], ['g'], ['e'], ['s'], [''], ['f'], ['o'], ['r'], [''], ['o'], ['r'], ['g'], ['a'], ['n'], ['i'], ['z'], ['a'], ['t'], ['i'], ['o'], ['n'], ['s'], [''], ['a'], ['n'], ['d'], [''], ['i'], ['n'], ['d'], ['i'], ['v'], ['i'], ['d'], ['u'], ['a'], ['l'], ['s'], [''], ['a'], ['l'], ['i'], ['k'], ['e'], ['.'], ['.'], ['.']]\n",
            "\n",
            "After:  [[], ['n'], ['t'], ['e'], ['r'], ['n'], ['e'], ['t'], [], ['s'], ['e'], ['c'], ['u'], ['r'], [], ['t'], ['y'], [], [], ['s'], [], ['t'], ['h'], ['e'], [], ['c'], ['o'], ['l'], ['l'], ['e'], ['c'], ['t'], [], ['o'], ['n'], [], ['o'], ['f'], [], ['p'], ['r'], [], ['c'], ['t'], [], ['c'], ['e'], ['s'], [], [], ['t'], ['e'], ['c'], ['h'], ['n'], ['o'], ['l'], ['o'], ['g'], [], ['e'], ['s'], [], [], [], ['n'], ['d'], [], ['c'], ['o'], ['n'], ['c'], ['e'], ['p'], ['t'], ['s'], [], ['t'], ['h'], [], ['t'], [], ['s'], ['h'], [], ['e'], ['l'], ['d'], [], [], ['n'], ['y'], [], [], ['n'], ['t'], ['e'], ['r'], ['n'], ['e'], ['t'], [], ['c'], ['o'], ['n'], ['n'], ['e'], ['c'], ['t'], ['e'], ['d'], [], ['s'], ['o'], ['f'], ['t'], ['w'], [], ['r'], ['e'], [], ['o'], ['r'], [], ['h'], [], ['r'], ['d'], ['w'], [], ['r'], ['e'], [], ['w'], ['e'], [], ['u'], ['s'], ['e'], [], ['f'], ['r'], ['o'], ['m'], [], ['o'], ['n'], ['l'], [], ['n'], ['e'], [], ['t'], ['h'], ['r'], ['e'], [], ['t'], ['s'], [], [], [], ['t'], ['h'], ['e'], [], ['n'], ['u'], ['m'], ['b'], ['e'], ['r'], [], ['o'], ['f'], [], ['d'], ['e'], ['v'], [], ['c'], ['e'], ['s'], [], ['w'], ['e'], [], ['u'], ['s'], ['e'], [], [], ['t'], [], ['h'], ['o'], ['m'], ['e'], [], ['o'], ['r'], [], ['w'], ['o'], ['r'], ['k'], [], ['t'], ['h'], [], ['t'], [], ['c'], [], ['n'], [], ['c'], ['o'], ['n'], ['n'], ['e'], ['c'], ['t'], [], ['t'], ['o'], [], [], [], ['n'], ['e'], ['t'], ['w'], ['o'], ['r'], ['k'], [], [], ['s'], [], [], ['n'], ['c'], ['r'], ['e'], [], ['s'], [], ['n'], ['g'], [], ['r'], [], ['p'], [], ['d'], ['l'], ['y'], [], [], [], ['n'], [], [], ['d'], ['d'], [], ['t'], [], ['o'], ['n'], [], ['t'], ['o'], [], ['o'], ['u'], ['r'], [], ['l'], [], ['p'], ['t'], ['o'], ['p'], ['s'], [], [], ['d'], ['e'], ['s'], ['k'], ['t'], ['o'], ['p'], ['s'], [], [], ['s'], ['e'], ['r'], ['v'], ['e'], ['r'], ['s'], [], [], ['r'], ['o'], ['u'], ['t'], ['e'], ['r'], ['s'], [], [], ['m'], ['o'], ['d'], ['e'], ['m'], ['s'], [], [], ['s'], ['m'], [], ['r'], ['t'], ['p'], ['h'], ['o'], ['n'], ['e'], ['s'], [], [], [], ['n'], ['d'], [], ['t'], [], ['b'], ['l'], ['e'], ['t'], ['s'], [], [], ['o'], ['u'], ['r'], [], ['w'], [], ['t'], ['c'], ['h'], ['e'], ['s'], [], [], [], ['p'], ['p'], ['l'], [], [], ['n'], ['c'], ['e'], ['s'], [], [], ['t'], ['h'], ['e'], ['r'], ['m'], ['o'], ['s'], ['t'], [], ['t'], ['s'], [], [], ['d'], ['o'], ['o'], ['r'], ['b'], ['e'], ['l'], ['l'], [], ['c'], [], ['m'], ['e'], ['r'], [], ['s'], [], [], [], ['n'], ['d'], [], [], ['p'], ['p'], ['l'], [], [], ['n'], ['c'], ['e'], ['s'], [], [], ['r'], ['e'], [], [], ['l'], ['s'], ['o'], [], [], ['n'], ['t'], ['e'], ['r'], ['n'], ['e'], ['t'], [], ['c'], ['o'], ['n'], ['n'], ['e'], ['c'], ['t'], ['e'], ['d'], [], ['d'], ['e'], ['v'], [], ['c'], ['e'], ['s'], [], [], ['n'], ['t'], ['e'], ['r'], ['n'], ['e'], ['t'], [], ['c'], ['o'], ['n'], ['n'], ['e'], ['c'], ['t'], [], ['v'], [], ['t'], ['y'], [], [], ['l'], ['l'], ['o'], ['w'], ['s'], [], ['o'], ['u'], ['r'], [], ['t'], ['e'], ['c'], ['h'], ['n'], ['o'], ['l'], ['o'], ['g'], ['y'], [], ['t'], ['o'], [], ['b'], ['e'], [], ['m'], ['o'], ['r'], ['e'], [], ['u'], ['s'], ['e'], ['f'], ['u'], ['l'], [], [], ['n'], ['d'], [], ['c'], ['o'], ['n'], ['v'], ['e'], ['n'], [], ['e'], ['n'], ['t'], [], [], [], ['n'], ['d'], [], ['m'], ['u'], ['c'], ['h'], [], ['s'], ['m'], [], ['r'], ['t'], ['e'], ['r'], [], [], ['h'], ['o'], ['w'], ['e'], ['v'], ['e'], ['r'], [], [], ['o'], ['p'], ['e'], ['n'], [], ['n'], ['g'], [], ['u'], ['p'], [], ['t'], ['h'], ['e'], [], ['d'], ['e'], ['v'], [], ['c'], ['e'], ['s'], [], [], ['n'], ['d'], [], ['s'], ['o'], ['f'], ['t'], ['w'], [], ['r'], ['e'], [], ['w'], ['e'], [], ['r'], ['e'], ['l'], ['y'], [], ['o'], ['n'], [], ['t'], ['o'], [], ['t'], ['h'], ['e'], [], ['d'], [], ['t'], [], [], ['s'], ['u'], ['p'], ['e'], ['r'], ['h'], [], ['g'], ['h'], ['w'], [], ['y'], [], [], ['l'], ['s'], ['o'], [], ['l'], ['e'], [], ['v'], ['e'], ['s'], [], ['t'], ['h'], ['e'], ['m'], [], ['v'], ['u'], ['l'], ['n'], ['e'], ['r'], [], ['b'], ['l'], ['e'], [], ['t'], ['o'], [], ['h'], [], ['c'], ['k'], ['e'], ['r'], ['s'], [], [], ['m'], [], ['l'], ['w'], [], ['r'], ['e'], [], [], ['e'], ['x'], ['p'], ['l'], ['o'], [], ['t'], ['s'], [], [], ['b'], ['o'], ['t'], ['s'], [], [], ['s'], ['p'], [], ['m'], [], [], ['m'], [], ['l'], [], ['c'], [], ['o'], ['u'], ['s'], [], ['l'], [], ['n'], ['k'], ['s'], [], [], ['n'], ['d'], [], ['w'], ['e'], ['b'], ['s'], [], ['t'], ['e'], ['s'], [], [], [], ['n'], ['t'], ['e'], ['r'], ['n'], ['e'], ['t'], [], ['c'], ['o'], ['n'], ['n'], ['e'], ['c'], ['t'], ['e'], ['d'], [], ['t'], ['e'], ['c'], ['h'], ['n'], ['o'], ['l'], ['o'], ['g'], ['y'], [], [], ['s'], [], [], ['l'], ['s'], ['o'], [], ['m'], ['o'], ['r'], ['e'], [], ['s'], ['u'], ['s'], ['c'], ['e'], ['p'], ['t'], [], ['b'], ['l'], ['e'], [], ['t'], ['o'], [], ['s'], ['o'], ['c'], [], [], ['l'], [], ['e'], ['n'], ['g'], [], ['n'], ['e'], ['e'], ['r'], [], ['n'], ['g'], [], [], ['t'], ['t'], [], ['c'], ['k'], ['s'], [], ['l'], [], ['k'], ['e'], [], ['p'], ['h'], [], ['s'], ['h'], [], ['n'], ['g'], [], [], [], ['n'], ['d'], [], ['s'], ['o'], ['p'], ['h'], [], ['s'], ['t'], [], ['c'], [], ['t'], ['e'], ['d'], [], ['t'], ['h'], ['r'], ['e'], [], ['t'], [], [], ['c'], ['t'], ['o'], ['r'], ['s'], [], ['c'], [], ['n'], [], ['u'], ['s'], ['e'], [], ['d'], ['e'], ['v'], [], ['c'], ['e'], ['s'], [], [], ['n'], [], [], [], ['n'], ['e'], ['t'], ['w'], ['o'], ['r'], ['k'], [], ['f'], ['o'], ['r'], [], ['l'], [], ['t'], ['e'], ['r'], [], ['l'], [], ['m'], ['o'], ['v'], ['e'], ['m'], ['e'], ['n'], ['t'], ['s'], [], [], ['d'], [], ['t'], [], [], ['e'], ['x'], ['f'], [], ['l'], ['t'], ['r'], [], ['t'], [], ['o'], ['n'], [], [], ['o'], ['r'], [], ['t'], ['o'], [], ['d'], ['r'], ['o'], ['p'], [], ['r'], [], ['n'], ['s'], ['o'], ['m'], ['w'], [], ['r'], ['e'], [], ['w'], [], ['t'], ['h'], [], ['t'], ['h'], ['e'], [], [], ['n'], ['c'], ['r'], ['e'], [], ['s'], [], ['n'], ['g'], [], ['u'], ['s'], ['e'], [], ['o'], ['f'], [], ['t'], ['h'], ['e'], [], [], ['n'], ['t'], ['e'], ['r'], ['n'], ['e'], ['t'], [], [], ['c'], ['y'], ['b'], ['e'], ['r'], ['c'], ['r'], [], ['m'], [], ['n'], [], ['l'], ['s'], [], ['h'], [], ['v'], ['e'], [], ['m'], ['o'], ['r'], ['e'], [], ['o'], ['p'], ['p'], ['o'], ['r'], ['t'], ['u'], ['n'], [], ['t'], [], ['e'], ['s'], [], ['t'], ['o'], [], [], ['c'], ['c'], ['e'], ['s'], ['s'], [], ['s'], ['e'], ['n'], ['s'], [], ['t'], [], ['v'], ['e'], [], ['d'], [], ['t'], [], [], [], ['n'], ['d'], [], ['c'], [], ['u'], ['s'], ['e'], [], ['f'], [], ['n'], [], ['n'], ['c'], [], [], ['l'], [], ['l'], ['o'], ['s'], ['s'], ['e'], ['s'], [], [], [], ['n'], ['t'], ['e'], ['r'], ['n'], ['e'], ['t'], [], ['s'], ['e'], ['c'], ['u'], ['r'], [], ['t'], ['y'], [], [], ['s'], [], ['e'], ['s'], ['s'], ['e'], ['n'], ['t'], [], [], ['l'], [], ['t'], ['o'], [], ['p'], ['r'], ['o'], ['t'], ['e'], ['c'], ['t'], [], ['b'], ['u'], ['s'], [], ['n'], ['e'], ['s'], ['s'], ['e'], ['s'], [], [], [], ['n'], ['d'], [], ['v'], [], ['d'], ['u'], [], ['l'], ['s'], [], [], [], ['n'], ['d'], [], ['g'], ['o'], ['v'], ['e'], ['r'], ['n'], ['m'], ['e'], ['n'], ['t'], ['s'], [], ['f'], ['r'], ['o'], ['m'], [], ['m'], [], ['l'], [], ['c'], [], ['o'], ['u'], ['s'], [], [], ['t'], ['t'], [], ['c'], ['k'], ['s'], [], ['s'], ['u'], ['c'], ['h'], [], [], ['s'], [], ['h'], [], ['c'], ['k'], [], ['n'], ['g'], [], [], ['m'], [], ['l'], ['w'], [], ['r'], ['e'], [], [], ['r'], [], ['n'], ['s'], ['o'], ['m'], ['w'], [], ['r'], ['e'], [], [], [], ['n'], ['d'], [], [], ['d'], ['e'], ['n'], ['t'], [], ['t'], ['y'], [], ['t'], ['h'], ['e'], ['f'], ['t'], [], [], [], ['t'], [], [], ['l'], ['s'], ['o'], [], ['h'], ['e'], ['l'], ['p'], ['s'], [], ['p'], ['r'], ['o'], ['t'], ['e'], ['c'], ['t'], [], ['f'], [], ['n'], [], ['n'], ['c'], [], [], ['l'], [], ['t'], ['r'], [], ['n'], ['s'], [], ['c'], ['t'], [], ['o'], ['n'], ['s'], [], [], ['n'], ['d'], [], ['o'], ['t'], ['h'], ['e'], ['r'], [], ['s'], ['e'], ['n'], ['s'], [], ['t'], [], ['v'], ['e'], [], [], ['n'], ['f'], ['o'], ['r'], ['m'], [], ['t'], [], ['o'], ['n'], [], ['f'], ['r'], ['o'], ['m'], [], ['b'], ['e'], [], ['n'], ['g'], [], ['s'], ['t'], ['o'], ['l'], ['e'], ['n'], [], ['o'], ['r'], [], ['m'], [], ['s'], ['u'], ['s'], ['e'], ['d'], [], [], [], ['n'], ['t'], ['e'], ['r'], ['n'], ['e'], ['t'], [], ['s'], ['e'], ['c'], ['u'], ['r'], [], ['t'], ['y'], [], ['m'], ['e'], [], ['s'], ['u'], ['r'], ['e'], ['s'], [], ['c'], [], ['n'], [], ['h'], ['e'], ['l'], ['p'], [], ['p'], ['r'], ['e'], ['v'], ['e'], ['n'], ['t'], [], ['d'], [], ['t'], [], [], ['b'], ['r'], ['e'], [], ['c'], ['h'], ['e'], ['s'], [], ['t'], ['h'], [], ['t'], [], ['c'], [], ['n'], [], ['l'], ['e'], [], ['d'], [], ['t'], ['o'], [], ['c'], ['o'], ['s'], ['t'], ['l'], ['y'], [], ['d'], [], ['m'], [], ['g'], ['e'], ['s'], [], ['f'], ['o'], ['r'], [], ['o'], ['r'], ['g'], [], ['n'], [], ['z'], [], ['t'], [], ['o'], ['n'], ['s'], [], [], ['n'], ['d'], [], [], ['n'], ['d'], [], ['v'], [], ['d'], ['u'], [], ['l'], ['s'], [], [], ['l'], [], ['k'], ['e'], [], [], []]\n"
          ]
        }
      ]
    },
    {
      "cell_type": "code",
      "source": [
        "s = ''\n",
        "docs = []\n",
        "for token_doc in token_docs:\n",
        "    docs.append(' '.join(token_doc))\n",
        "print(docs)"
      ],
      "metadata": {
        "colab": {
          "base_uri": "https://localhost:8080/"
        },
        "id": "PkHt4gyrt01-",
        "outputId": "406b16c3-13de-4a86-e86b-412cbf3663bb"
      },
      "execution_count": null,
      "outputs": [
        {
          "output_type": "stream",
          "name": "stdout",
          "text": [
            "['', 'n', 't', 'e', 'r', 'n', 'e', 't', '', 's', 'e', 'c', 'u', 'r', '', 't', 'y', '', '', 's', '', 't', 'h', 'e', '', 'c', 'o', 'l', 'l', 'e', 'c', 't', '', 'o', 'n', '', 'o', 'f', '', 'p', 'r', '', 'c', 't', '', 'c', 'e', 's', '', '', 't', 'e', 'c', 'h', 'n', 'o', 'l', 'o', 'g', '', 'e', 's', '', '', '', 'n', 'd', '', 'c', 'o', 'n', 'c', 'e', 'p', 't', 's', '', 't', 'h', '', 't', '', 's', 'h', '', 'e', 'l', 'd', '', '', 'n', 'y', '', '', 'n', 't', 'e', 'r', 'n', 'e', 't', '', 'c', 'o', 'n', 'n', 'e', 'c', 't', 'e', 'd', '', 's', 'o', 'f', 't', 'w', '', 'r', 'e', '', 'o', 'r', '', 'h', '', 'r', 'd', 'w', '', 'r', 'e', '', 'w', 'e', '', 'u', 's', 'e', '', 'f', 'r', 'o', 'm', '', 'o', 'n', 'l', '', 'n', 'e', '', 't', 'h', 'r', 'e', '', 't', 's', '', '', '', 't', 'h', 'e', '', 'n', 'u', 'm', 'b', 'e', 'r', '', 'o', 'f', '', 'd', 'e', 'v', '', 'c', 'e', 's', '', 'w', 'e', '', 'u', 's', 'e', '', '', 't', '', 'h', 'o', 'm', 'e', '', 'o', 'r', '', 'w', 'o', 'r', 'k', '', 't', 'h', '', 't', '', 'c', '', 'n', '', 'c', 'o', 'n', 'n', 'e', 'c', 't', '', 't', 'o', '', '', '', 'n', 'e', 't', 'w', 'o', 'r', 'k', '', '', 's', '', '', 'n', 'c', 'r', 'e', '', 's', '', 'n', 'g', '', 'r', '', 'p', '', 'd', 'l', 'y', '', '', '', 'n', '', '', 'd', 'd', '', 't', '', 'o', 'n', '', 't', 'o', '', 'o', 'u', 'r', '', 'l', '', 'p', 't', 'o', 'p', 's', '', '', 'd', 'e', 's', 'k', 't', 'o', 'p', 's', '', '', 's', 'e', 'r', 'v', 'e', 'r', 's', '', '', 'r', 'o', 'u', 't', 'e', 'r', 's', '', '', 'm', 'o', 'd', 'e', 'm', 's', '', '', 's', 'm', '', 'r', 't', 'p', 'h', 'o', 'n', 'e', 's', '', '', '', 'n', 'd', '', 't', '', 'b', 'l', 'e', 't', 's', '', '', 'o', 'u', 'r', '', 'w', '', 't', 'c', 'h', 'e', 's', '', '', '', 'p', 'p', 'l', '', '', 'n', 'c', 'e', 's', '', '', 't', 'h', 'e', 'r', 'm', 'o', 's', 't', '', 't', 's', '', '', 'd', 'o', 'o', 'r', 'b', 'e', 'l', 'l', '', 'c', '', 'm', 'e', 'r', '', 's', '', '', '', 'n', 'd', '', '', 'p', 'p', 'l', '', '', 'n', 'c', 'e', 's', '', '', 'r', 'e', '', '', 'l', 's', 'o', '', '', 'n', 't', 'e', 'r', 'n', 'e', 't', '', 'c', 'o', 'n', 'n', 'e', 'c', 't', 'e', 'd', '', 'd', 'e', 'v', '', 'c', 'e', 's', '', '', 'n', 't', 'e', 'r', 'n', 'e', 't', '', 'c', 'o', 'n', 'n', 'e', 'c', 't', '', 'v', '', 't', 'y', '', '', 'l', 'l', 'o', 'w', 's', '', 'o', 'u', 'r', '', 't', 'e', 'c', 'h', 'n', 'o', 'l', 'o', 'g', 'y', '', 't', 'o', '', 'b', 'e', '', 'm', 'o', 'r', 'e', '', 'u', 's', 'e', 'f', 'u', 'l', '', '', 'n', 'd', '', 'c', 'o', 'n', 'v', 'e', 'n', '', 'e', 'n', 't', '', '', '', 'n', 'd', '', 'm', 'u', 'c', 'h', '', 's', 'm', '', 'r', 't', 'e', 'r', '', '', 'h', 'o', 'w', 'e', 'v', 'e', 'r', '', '', 'o', 'p', 'e', 'n', '', 'n', 'g', '', 'u', 'p', '', 't', 'h', 'e', '', 'd', 'e', 'v', '', 'c', 'e', 's', '', '', 'n', 'd', '', 's', 'o', 'f', 't', 'w', '', 'r', 'e', '', 'w', 'e', '', 'r', 'e', 'l', 'y', '', 'o', 'n', '', 't', 'o', '', 't', 'h', 'e', '', 'd', '', 't', '', '', 's', 'u', 'p', 'e', 'r', 'h', '', 'g', 'h', 'w', '', 'y', '', '', 'l', 's', 'o', '', 'l', 'e', '', 'v', 'e', 's', '', 't', 'h', 'e', 'm', '', 'v', 'u', 'l', 'n', 'e', 'r', '', 'b', 'l', 'e', '', 't', 'o', '', 'h', '', 'c', 'k', 'e', 'r', 's', '', '', 'm', '', 'l', 'w', '', 'r', 'e', '', '', 'e', 'x', 'p', 'l', 'o', '', 't', 's', '', '', 'b', 'o', 't', 's', '', '', 's', 'p', '', 'm', '', '', 'm', '', 'l', '', 'c', '', 'o', 'u', 's', '', 'l', '', 'n', 'k', 's', '', '', 'n', 'd', '', 'w', 'e', 'b', 's', '', 't', 'e', 's', '', '', '', 'n', 't', 'e', 'r', 'n', 'e', 't', '', 'c', 'o', 'n', 'n', 'e', 'c', 't', 'e', 'd', '', 't', 'e', 'c', 'h', 'n', 'o', 'l', 'o', 'g', 'y', '', '', 's', '', '', 'l', 's', 'o', '', 'm', 'o', 'r', 'e', '', 's', 'u', 's', 'c', 'e', 'p', 't', '', 'b', 'l', 'e', '', 't', 'o', '', 's', 'o', 'c', '', '', 'l', '', 'e', 'n', 'g', '', 'n', 'e', 'e', 'r', '', 'n', 'g', '', '', 't', 't', '', 'c', 'k', 's', '', 'l', '', 'k', 'e', '', 'p', 'h', '', 's', 'h', '', 'n', 'g', '', '', '', 'n', 'd', '', 's', 'o', 'p', 'h', '', 's', 't', '', 'c', '', 't', 'e', 'd', '', 't', 'h', 'r', 'e', '', 't', '', '', 'c', 't', 'o', 'r', 's', '', 'c', '', 'n', '', 'u', 's', 'e', '', 'd', 'e', 'v', '', 'c', 'e', 's', '', '', 'n', '', '', '', 'n', 'e', 't', 'w', 'o', 'r', 'k', '', 'f', 'o', 'r', '', 'l', '', 't', 'e', 'r', '', 'l', '', 'm', 'o', 'v', 'e', 'm', 'e', 'n', 't', 's', '', '', 'd', '', 't', '', '', 'e', 'x', 'f', '', 'l', 't', 'r', '', 't', '', 'o', 'n', '', '', 'o', 'r', '', 't', 'o', '', 'd', 'r', 'o', 'p', '', 'r', '', 'n', 's', 'o', 'm', 'w', '', 'r', 'e', '', 'w', '', 't', 'h', '', 't', 'h', 'e', '', '', 'n', 'c', 'r', 'e', '', 's', '', 'n', 'g', '', 'u', 's', 'e', '', 'o', 'f', '', 't', 'h', 'e', '', '', 'n', 't', 'e', 'r', 'n', 'e', 't', '', '', 'c', 'y', 'b', 'e', 'r', 'c', 'r', '', 'm', '', 'n', '', 'l', 's', '', 'h', '', 'v', 'e', '', 'm', 'o', 'r', 'e', '', 'o', 'p', 'p', 'o', 'r', 't', 'u', 'n', '', 't', '', 'e', 's', '', 't', 'o', '', '', 'c', 'c', 'e', 's', 's', '', 's', 'e', 'n', 's', '', 't', '', 'v', 'e', '', 'd', '', 't', '', '', '', 'n', 'd', '', 'c', '', 'u', 's', 'e', '', 'f', '', 'n', '', 'n', 'c', '', '', 'l', '', 'l', 'o', 's', 's', 'e', 's', '', '', '', 'n', 't', 'e', 'r', 'n', 'e', 't', '', 's', 'e', 'c', 'u', 'r', '', 't', 'y', '', '', 's', '', 'e', 's', 's', 'e', 'n', 't', '', '', 'l', '', 't', 'o', '', 'p', 'r', 'o', 't', 'e', 'c', 't', '', 'b', 'u', 's', '', 'n', 'e', 's', 's', 'e', 's', '', '', '', 'n', 'd', '', 'v', '', 'd', 'u', '', 'l', 's', '', '', '', 'n', 'd', '', 'g', 'o', 'v', 'e', 'r', 'n', 'm', 'e', 'n', 't', 's', '', 'f', 'r', 'o', 'm', '', 'm', '', 'l', '', 'c', '', 'o', 'u', 's', '', '', 't', 't', '', 'c', 'k', 's', '', 's', 'u', 'c', 'h', '', '', 's', '', 'h', '', 'c', 'k', '', 'n', 'g', '', '', 'm', '', 'l', 'w', '', 'r', 'e', '', '', 'r', '', 'n', 's', 'o', 'm', 'w', '', 'r', 'e', '', '', '', 'n', 'd', '', '', 'd', 'e', 'n', 't', '', 't', 'y', '', 't', 'h', 'e', 'f', 't', '', '', '', 't', '', '', 'l', 's', 'o', '', 'h', 'e', 'l', 'p', 's', '', 'p', 'r', 'o', 't', 'e', 'c', 't', '', 'f', '', 'n', '', 'n', 'c', '', '', 'l', '', 't', 'r', '', 'n', 's', '', 'c', 't', '', 'o', 'n', 's', '', '', 'n', 'd', '', 'o', 't', 'h', 'e', 'r', '', 's', 'e', 'n', 's', '', 't', '', 'v', 'e', '', '', 'n', 'f', 'o', 'r', 'm', '', 't', '', 'o', 'n', '', 'f', 'r', 'o', 'm', '', 'b', 'e', '', 'n', 'g', '', 's', 't', 'o', 'l', 'e', 'n', '', 'o', 'r', '', 'm', '', 's', 'u', 's', 'e', 'd', '', '', '', 'n', 't', 'e', 'r', 'n', 'e', 't', '', 's', 'e', 'c', 'u', 'r', '', 't', 'y', '', 'm', 'e', '', 's', 'u', 'r', 'e', 's', '', 'c', '', 'n', '', 'h', 'e', 'l', 'p', '', 'p', 'r', 'e', 'v', 'e', 'n', 't', '', 'd', '', 't', '', '', 'b', 'r', 'e', '', 'c', 'h', 'e', 's', '', 't', 'h', '', 't', '', 'c', '', 'n', '', 'l', 'e', '', 'd', '', 't', 'o', '', 'c', 'o', 's', 't', 'l', 'y', '', 'd', '', 'm', '', 'g', 'e', 's', '', 'f', 'o', 'r', '', 'o', 'r', 'g', '', 'n', '', 'z', '', 't', '', 'o', 'n', 's', '', '', 'n', 'd', '', '', 'n', 'd', '', 'v', '', 'd', 'u', '', 'l', 's', '', '', 'l', '', 'k', 'e', '', '', '']\n"
          ]
        }
      ]
    },
    {
      "cell_type": "code",
      "source": [
        "import nltk\n",
        "nltk.download('punkt')\n",
        "\n",
        "from nltk.stem.porter import PorterStemmer\n",
        "\n",
        "porter_stemmer  = PorterStemmer()\n",
        "\n",
        "docs = [\"artificial intelligence is impacting the world brilliantly.\",\n",
        "       \"Python is the most commonly used language for Ai.\",\n",
        "       \"AI solves many problems with ina seconds.\"]\n",
        "\n",
        "\n",
        "tokenization = [nltk.word_tokenize(i) for i in docs]\n",
        "\n",
        "docs_stemmer = []\n",
        "for w in tokenization:\n",
        "  for i in w:\n",
        "    print(porter_stemmer.stem(i))\n"
      ],
      "metadata": {
        "colab": {
          "base_uri": "https://localhost:8080/"
        },
        "id": "NCYvTRttt7md",
        "outputId": "c3a58ec1-77a8-4d54-96ab-923058cbd228"
      },
      "execution_count": null,
      "outputs": [
        {
          "output_type": "stream",
          "name": "stderr",
          "text": [
            "[nltk_data] Downloading package punkt to /root/nltk_data...\n",
            "[nltk_data]   Unzipping tokenizers/punkt.zip.\n"
          ]
        },
        {
          "output_type": "stream",
          "name": "stdout",
          "text": [
            "artifici\n",
            "intellig\n",
            "is\n",
            "impact\n",
            "the\n",
            "world\n",
            "brilliantli\n",
            ".\n",
            "python\n",
            "is\n",
            "the\n",
            "most\n",
            "commonli\n",
            "use\n",
            "languag\n",
            "for\n",
            "ai\n",
            ".\n",
            "ai\n",
            "solv\n",
            "mani\n",
            "problem\n",
            "with\n",
            "ina\n",
            "second\n",
            ".\n"
          ]
        }
      ]
    },
    {
      "cell_type": "code",
      "source": [
        "import nltk\n",
        "from nltk import word_tokenize, pos_tag\n",
        "\n",
        "nltk.download('punkt')\n",
        "nltk.download('averaged_perceptron_tagger')\n",
        "\n",
        "# Example sentence\n",
        "sentence = \"AI can replaces humans.\"\n",
        "\n",
        "# Tokenize the sentence\n",
        "tokens = word_tokenize(sentence)\n",
        "\n",
        "# Perform POS tagging\n",
        "pos_tags = pos_tag(tokens)\n",
        "\n",
        "# Display the POS tags\n",
        "print(pos_tags)\n"
      ],
      "metadata": {
        "colab": {
          "base_uri": "https://localhost:8080/"
        },
        "id": "qMj7LGcdt7pc",
        "outputId": "b779be78-77c5-4ed1-c44d-ec557135549f"
      },
      "execution_count": null,
      "outputs": [
        {
          "output_type": "stream",
          "name": "stderr",
          "text": [
            "[nltk_data] Downloading package punkt to /root/nltk_data...\n",
            "[nltk_data]   Package punkt is already up-to-date!\n",
            "[nltk_data] Downloading package averaged_perceptron_tagger to\n",
            "[nltk_data]     /root/nltk_data...\n",
            "[nltk_data]   Unzipping taggers/averaged_perceptron_tagger.zip.\n"
          ]
        },
        {
          "output_type": "stream",
          "name": "stdout",
          "text": [
            "[('AI', 'NNP'), ('can', 'MD'), ('replaces', 'VB'), ('humans', 'NNS'), ('.', '.')]\n"
          ]
        }
      ]
    }
  ]
}