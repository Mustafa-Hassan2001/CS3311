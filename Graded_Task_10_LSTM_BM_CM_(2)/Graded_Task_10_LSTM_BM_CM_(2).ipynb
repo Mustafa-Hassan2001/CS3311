{
  "nbformat": 4,
  "nbformat_minor": 0,
  "metadata": {
    "colab": {
      "provenance": []
    },
    "kernelspec": {
      "name": "python3",
      "display_name": "Python 3"
    },
    "language_info": {
      "name": "python"
    }
  },
  "cells": [
    {
      "cell_type": "markdown",
      "source": [
        "Consider the following english_sentences along with their corresponding labels(french_sentences).\n",
        "Train the LSTM on the given data and predict on the model."
      ],
      "metadata": {
        "id": "7YyE8bbWlMGG"
      }
    },
    {
      "cell_type": "code",
      "execution_count": null,
      "metadata": {
        "id": "2bbovxI6kjkL",
        "outputId": "70d0cbf2-83e1-4bfd-a09a-53bc25a1e339",
        "colab": {
          "base_uri": "https://localhost:8080/"
        }
      },
      "outputs": [
        {
          "output_type": "stream",
          "name": "stdout",
          "text": [
            "Epoch 1/5\n",
            "3/3 [==============================] - 6s 342ms/step - loss: 5.9221 - accuracy: 0.0809 - val_loss: 5.9060 - val_accuracy: 0.2812\n",
            "Epoch 2/5\n",
            "3/3 [==============================] - 0s 67ms/step - loss: 5.8930 - accuracy: 0.3261 - val_loss: 5.8805 - val_accuracy: 0.2812\n",
            "Epoch 3/5\n",
            "3/3 [==============================] - 0s 70ms/step - loss: 5.8573 - accuracy: 0.3261 - val_loss: 5.8436 - val_accuracy: 0.2812\n",
            "Epoch 4/5\n",
            "3/3 [==============================] - 0s 62ms/step - loss: 5.8033 - accuracy: 0.3261 - val_loss: 5.7837 - val_accuracy: 0.2812\n",
            "Epoch 5/5\n",
            "3/3 [==============================] - 0s 72ms/step - loss: 5.7145 - accuracy: 0.3261 - val_loss: 5.6779 - val_accuracy: 0.2812\n",
            "Test Accuracy: 0.34259259700775146\n",
            "1/1 [==============================] - 1s 540ms/step\n",
            "[]\n"
          ]
        }
      ],
      "source": [
        "import numpy as np\n",
        "import pandas as pd\n",
        "from tensorflow.keras.preprocessing.text import Tokenizer\n",
        "from tensorflow.keras.preprocessing.sequence import pad_sequences\n",
        "from tensorflow.keras.utils import to_categorical\n",
        "from sklearn.model_selection import train_test_split\n",
        "from tensorflow.keras.models import Model\n",
        "from tensorflow.keras.layers import LSTM, Embedding, Dense, TimeDistributed, Dropout, Bidirectional, Input\n",
        "sentences = [ \"I love machine learning\",\n",
        "    \"TensorFlow is a powerful tool\",\n",
        "    \"Translate this sentence\",\n",
        "    \"Artificial intelligence is changing the world\",\n",
        "    \"Python is a versatile programming language\",\n",
        "    \"Can you solve this problem?\",\n",
        "    \"Data science involves analyzing large datasets\",\n",
        "    \"The internet has revolutionized communication\",\n",
        "    \"I enjoy reading science fiction novels\",\n",
        "    \"Coding is an essential skill in today's world\",\n",
        "    \"Machine learning algorithms can predict outcomes\",\n",
        "    \"Climate change is a pressing global issue\",\n",
        "    \"Please pass me the salt and pepper\",\n",
        "    \"The universe is vast and mysterious\",\n",
        "    \"Learning a new language enhances cognitive abilities\",\n",
        "    \"Robots are becoming increasingly sophisticated\",\n",
        "    \"The stock market can be unpredictable\",\n",
        "    \"Mobile phones have become indispensable\",\n",
        "    \"Artists express themselves through their work\",\n",
        "    \"Quantum physics explores the nature of reality\",\n",
        "    \"Global collaboration is key for solving challenges\",\n",
        "    \"The Earth rotates on its axis\",\n",
        "    \"Virtual reality provides immersive experiences\",\n",
        "    \"Reading books broadens one's perspective\",\n",
        "    \"Renewable energy is crucial for sustainability\",\n",
        "    \"A healthy diet is essential for well-being\",\n",
        "    \"Space exploration opens new frontiers\",\n",
        "    \"The Renaissance was a period of cultural revival\",\n",
        "    \"Solving puzzles enhances problem-solving skills\",\n",
        "    \"Music has the power to evoke emotions\",\n",
        "    \"The human brain is a remarkable organ\",\n",
        "    \"Innovation drives technological advancements\",\n",
        "    \"Cats and dogs make wonderful companions\",\n",
        "    \"The Great Wall of China is a marvel of engineering\",\n",
        "    \"Einstein's theory of relativity revolutionized physics\",\n",
        "    \"Positive thinking contributes to mental well-being\",\n",
        "    \"The internet of things connects devices globally\",\n",
        "    \"Biodiversity is crucial for ecosystem health\",\n",
        "    \"Exploring nature has therapeutic benefits\",\n",
        "    \"Mathematics is the language of the universe\",\n",
        "    \"Programming is a valuable skill in the digital age\",\n",
        "    \"The Renaissance era gave birth to great art and ideas\",\n",
        "    \"A healthy lifestyle includes regular exercise\",\n",
        "    \"Cryptocurrency is changing the landscape of finance\",\n",
        "    \"Sustainable practices are crucial for environmental conservation\",\n",
        "    \"The Industrial Revolution transformed manufacturing processes\",\n",
        "    \"Effective communication is key in any relationship\",\n",
        "    \"History provides valuable lessons for the future\",\n",
        "    \"The importance of education cannot be overstated\",\n",
        "    \"Genetic diversity is essential for species survival\",\n",
        "    \"Traveling broadens one's cultural understanding\",\n",
        "    \"The concept of time is a fascinating philosophical topic\",\n",
        "    \"Epidemiology plays a vital role in public health\",\n",
        "    \"Meditation has proven benefits for mental well-being\",\n",
        "    \"Space exploration sparks curiosity about the cosmos\",\n",
        "    \"Bilingualism enhances cognitive flexibility\",\n",
        "    \"The impact of automation on employment is a debated topic\",\n",
        "    \"Challenges foster personal growth and resilience\",\n",
        "    \"Ancient civilizations left behind remarkable architectural wonders\",\n",
        "    \"The scientific method is a systematic approach to inquiry\",\n",
        "    \"Critical thinking is an essential skill for problem-solving\",\n",
        "    \"The human genome project revolutionized genetics\",\n",
        "    \"Cultural diversity enriches society\",\n",
        "    \"Renewable energy sources are a sustainable solution\",\n",
        "    \"The concept of artificial intelligence dates back centuries\",\n",
        "    \"Reading fosters imagination and creativity\",\n",
        "    \"Physics seeks to understand the fundamental laws of the universe\",\n",
        "    \"The importance of water conservation is emphasized globally\",\n",
        "    \"Philosophy explores fundamental questions about existence\",\n",
        "    \"Adaptability is a valuable trait in a rapidly changing world\",\n",
        "    \"The butterfly effect illustrates the interconnectedness of events\",\n",
        "    \"Ecotourism promotes responsible travel and conservation\",\n",
        "    \"Cognitive dissonance explores the discomfort of conflicting beliefs\",\n",
        "    \"The concept of beauty varies across cultures\",\n",
        "    \"Nanotechnology has promising applications in various fields\",\n",
        "    \"Oceanography studies the mysteries of the world's oceans\",\n",
        "    \"The placebo effect highlights the mind-body connection\",\n",
        "    \"Environmental sustainability is a collective responsibility\",\n",
        "    \"The impact of social media on society is a subject of debate\",\n",
        "    \"Culinary arts blend creativity and precision\",\n",
        "    \"Nuclear fusion holds potential for clean energy production\",\n",
        "    \"The role of women in history often goes unrecognized\",\n",
        "    \"Biotechnology advancements offer promising medical breakthroughs\",\n",
        "    \"The concept of time travel captivates the human imagination\",\n",
        "    \"Mathematical models help us understand complex phenomena\",\n",
        "    \"Theories of consciousness delve into the nature of self-awareness\",\n",
        "             ]\n",
        "\n",
        "labels = [ \"J'adore l'apprentissage automatique\",\n",
        "    \"TensorFlow est un outil puissant\",\n",
        "    \"Traduisez cette phrase\",\n",
        "    \"L'intelligence artificielle change le monde\",\n",
        "    \"Python est un langage de programmation polyvalent\",\n",
        "    \"Pouvez-vous résoudre ce problème ?\",\n",
        "    \"La science des données implique l'analyse de grands ensembles de données\",\n",
        "    \"Internet a révolutionné la communication\",\n",
        "    \"J'aime lire des romans de science-fiction\",\n",
        "    \"Coder est une compétence essentielle dans le monde d'aujourd'hui\",\n",
        "    \"Les algorithmes d'apprentissage automatique peuvent prédire des résultats\",\n",
        "    \"Le changement climatique est un problème mondial pressant\",\n",
        "    \"S'il vous plaît, passez-moi le sel et le poivre\",\n",
        "    \"L'univers est vaste et mystérieux\",\n",
        "    \"Apprendre une nouvelle langue améliore les capacités cognitives\",\n",
        "    \"Les robots deviennent de plus en plus sophistiqués\",\n",
        "    \"La bourse peut être imprévisible\",\n",
        "    \"Les téléphones portables sont devenus indispensables\",\n",
        "    \"Les artistes s'expriment à travers leur travail\",\n",
        "    \"La physique quantique explore la nature de la réalité\",\n",
        "    \"La collaboration mondiale est essentielle pour résoudre les défis\",\n",
        "    \"La Terre tourne sur son axe\",\n",
        "    \"La réalité virtuelle offre des expériences immersives\",\n",
        "    \"Lire des livres élargit la perspective\",\n",
        "    \"L'énergie renouvelable est cruciale pour la durabilité\",\n",
        "    \"Une alimentation saine est essentielle pour le bien-être\",\n",
        "    \"L'exploration spatiale ouvre de nouvelles frontières\",\n",
        "    \"La Renaissance fut une période de renouveau culturel\",\n",
        "    \"Résoudre des puzzles améliore les compétences en résolution de problèmes\",\n",
        "    \"La musique a le pouvoir d'évoquer des émotions\",\n",
        "    \"Le cerveau humain est un organe remarquable\",\n",
        "    \"L'innovation stimule les progrès technologiques\",\n",
        "    \"Les chats et les chiens font d'excellents compagnons\",\n",
        "    \"La Grande Muraille de Chine est une merveille d'ingénierie\",\n",
        "    \"La théorie de la relativité d'Einstein a révolutionné la physique\",\n",
        "    \"La pensée positive contribue au bien-être mental\",\n",
        "    \"Internet des objets connecte des appareils à l'échelle mondiale\",\n",
        "    \"La biodiversité est cruciale pour la santé des écosystèmes\",\n",
        "    \"Explorer la nature a des bienfaits thérapeutiques\",\n",
        "    \"Les mathématiques sont le langage de l'univers\",\n",
        "    \"La programmation est une compétence précieuse à l'ère numérique\",\n",
        "    \"L'époque de la Renaissance a donné naissance à de grandes œuvres d'art et d'idées\",\n",
        "    \"Un mode de vie sain inclut une pratique régulière de l'exercice\",\n",
        "    \"Les cryptomonnaies changent le paysage financier\",\n",
        "    \"Les pratiques durables sont cruciales pour la conservation de l'environnement\",\n",
        "    \"La Révolution industrielle a transformé les processus de fabrication\",\n",
        "    \"La communication efficace est essentielle dans toute relation\",\n",
        "    \"L'histoire offre des leçons précieuses pour l'avenir\",\n",
        "    \"L'importance de l'éducation ne peut être surestimée\",\n",
        "    \"La diversité génétique est essentielle à la survie des espèces\",\n",
        "    \"Les voyages élargissent la compréhension culturelle\",\n",
        "    \"Le concept du temps est un sujet philosophique fascinant\",\n",
        "    \"L'épidémiologie joue un rôle vital dans la santé publique\",\n",
        "    \"La méditation a des bienfaits prouvés pour le bien-être mental\",\n",
        "    \"L'exploration spatiale suscite la curiosité sur le cosmos\",\n",
        "    \"Le bilinguisme améliore la flexibilité cognitive\",\n",
        "    \"L'impact de l'automatisation sur l'emploi est un sujet débattu\",\n",
        "    \"Les défis favorisent la croissance personnelle et la résilience\",\n",
        "    \"Les anciennes civilisations ont laissé derrière elles d'étonnantes merveilles architecturales\",\n",
        "    \"La méthode scientifique est une approche systématique de l'enquête\",\n",
        "    \"La pensée critique est une compétence essentielle pour la résolution de problèmes\",\n",
        "    \"Le projet du génome humain a révolutionné la génétique\",\n",
        "    \"La diversité culturelle enrichit la société\",\n",
        "    \"Les sources d'énergie renouvelable sont une solution durable\",\n",
        "    \"Le concept d'intelligence artificielle remonte à plusieurs siècles\",\n",
        "    \"La lecture favorise l'imagination et la créativité\",\n",
        "    \"La physique cherche à comprendre les lois fondamentales de l'univers\",\n",
        "    \"L'importance de la conservation de l'eau est soulignée à l'échelle mondiale\",\n",
        "    \"La philosophie explore des questions fondamentales sur l'existence\",\n",
        "    \"L'adaptabilité est une qualité précieuse dans un monde en rapide évolution\",\n",
        "    \"L'effet papillon illustre l'interconnexion des événements\",\n",
        "    \"L'écotourisme promeut un voyage responsable et la conservation\",\n",
        "    \"La dissonance cognitive explore le malaise des croyances contradictoires\",\n",
        "    \"Le concept de beauté varie selon les cultures\",\n",
        "    \"Les nanotechnologies offrent des applications prometteuses dans divers domaines\",\n",
        "    \"L'océanographie étudie les mystères des océans du monde\",\n",
        "    \"L'effet placebo met en lumière la connexion esprit-corps\",\n",
        "    \"La durabilité environnementale est une responsabilité collective\",\n",
        "    \"L'impact des médias sociaux sur la société est un sujet de débat\",\n",
        "    \"Les arts culinaires allient créativité et précision\",\n",
        "    \"La fusion nucléaire offre un potentiel pour la production d'énergie propre\",\n",
        "    \"Le rôle des femmes dans l'histoire est souvent méconnu\",\n",
        "    \"Les avancées en biotechnologie offrent des percées médicales prometteuses\",\n",
        "    \"Le concept du voyage dans le temps captive l'imagination humaine\",\n",
        "    \"Les modèles mathématiques nous aident à comprendre des phénomènes complexes\",\n",
        "    \"Les théories de la conscience explorent la nature de la prise de conscience de soi\", ]\n",
        "\n",
        "\n",
        "word_tokenizer = Tokenizer(lower=False, filters='')\n",
        "word_tokenizer.fit_on_texts(sentences)\n",
        "X = word_tokenizer.texts_to_sequences(sentences)\n",
        "max_len = max([len(sentence) for sentence in X])\n",
        "X = pad_sequences(X, maxlen=max_len, padding='post')\n",
        "label_tokenizer = Tokenizer(lower=False)\n",
        "label_tokenizer.fit_on_texts(labels)\n",
        "y = label_tokenizer.texts_to_sequences(labels)\n",
        "y = pad_sequences(y, maxlen=max_len, padding='post')\n",
        "y = [to_categorical(i, num_classes=len(label_tokenizer.word_index) + 1) for i in y]\n",
        "X_train, X_test, y_train, y_test = train_test_split(X, y, test_size=0.1, random_state=0)\n",
        "input_word = Input(shape=(max_len,))\n",
        "model = Embedding(input_dim=len(word_tokenizer.word_index) + 1, output_dim=50, input_length=max_len)(input_word)\n",
        "model = Dropout(0.1)(model)\n",
        "model = Bidirectional(LSTM(units=100, return_sequences=True, recurrent_dropout=0.1))(model)\n",
        "out = TimeDistributed(Dense(len(label_tokenizer.word_index) + 1, activation=\"softmax\"))(model)\n",
        "\n",
        "model = Model(input_word, out)\n",
        "model.compile(optimizer=\"adam\", loss=\"categorical_crossentropy\", metrics=[\"accuracy\"])\n",
        "\n",
        "model.fit(X_train, np.array(y_train), batch_size=32, epochs=5, validation_split=0.1, verbose=1)\n",
        "\n",
        "loss, accuracy = model.evaluate(X_test, np.array(y_test), verbose=0)\n",
        "print(f\"Test Accuracy: {accuracy}\")\n",
        "\n",
        "new_sentence = [\"Aisha traveled to Islamabad last summer.\"]\n",
        "new_X = word_tokenizer.texts_to_sequences(new_sentence)\n",
        "new_X = pad_sequences(new_X, maxlen=max_len, padding='post')\n",
        "predictions = model.predict(new_X)\n",
        "\n",
        "predicted_labels = np.argmax(predictions, axis=-1)\n",
        "labels = [label_tokenizer.index_word[label] for label in predicted_labels[0] if label != 0]\n",
        "print(labels)"
      ]
    },
    {
      "cell_type": "code",
      "source": [
        "len(english_sentences)"
      ],
      "metadata": {
        "colab": {
          "base_uri": "https://localhost:8080/",
          "height": 175
        },
        "id": "--lsFQPjktXN",
        "outputId": "445ed35d-93f3-46dd-c529-51f492cd1d84"
      },
      "execution_count": null,
      "outputs": [
        {
          "output_type": "error",
          "ename": "NameError",
          "evalue": "ignored",
          "traceback": [
            "\u001b[0;31m---------------------------------------------------------------------------\u001b[0m",
            "\u001b[0;31mNameError\u001b[0m                                 Traceback (most recent call last)",
            "\u001b[0;32m<ipython-input-2-46742e86ba10>\u001b[0m in \u001b[0;36m<cell line: 1>\u001b[0;34m()\u001b[0m\n\u001b[0;32m----> 1\u001b[0;31m \u001b[0mlen\u001b[0m\u001b[0;34m(\u001b[0m\u001b[0menglish_sentences\u001b[0m\u001b[0;34m)\u001b[0m\u001b[0;34m\u001b[0m\u001b[0;34m\u001b[0m\u001b[0m\n\u001b[0m",
            "\u001b[0;31mNameError\u001b[0m: name 'english_sentences' is not defined"
          ]
        }
      ]
    },
    {
      "cell_type": "code",
      "source": [
        "len(french_sentences)"
      ],
      "metadata": {
        "colab": {
          "base_uri": "https://localhost:8080/"
        },
        "id": "_v0Zk3PrkrTw",
        "outputId": "a180696d-36b9-4cc3-a23a-b74b5dbd507d"
      },
      "execution_count": null,
      "outputs": [
        {
          "output_type": "execute_result",
          "data": {
            "text/plain": [
              "86"
            ]
          },
          "metadata": {},
          "execution_count": 8
        },
        {
          "output_type": "execute_result",
          "data": {
            "text/plain": [
              "86"
            ]
          },
          "metadata": {},
          "execution_count": 11
        }
      ]
    },
    {
      "cell_type": "code",
      "source": [],
      "metadata": {
        "id": "Ex0XwIRlkv22"
      },
      "execution_count": null,
      "outputs": []
    }
  ]
}